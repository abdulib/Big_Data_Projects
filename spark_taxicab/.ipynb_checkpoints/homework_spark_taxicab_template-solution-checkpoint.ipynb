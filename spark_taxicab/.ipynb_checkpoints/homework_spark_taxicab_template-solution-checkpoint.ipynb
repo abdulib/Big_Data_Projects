{
 "cells": [
  {
   "cell_type": "markdown",
   "metadata": {},
   "source": [
    "# Homework - Spark Programming on Taxicab Report Dataset "
   ]
  },
  {
   "cell_type": "markdown",
   "metadata": {},
   "source": [
    "The purpose of this exercise is to write some `pyspark` code that does some computation over a large dataset. Specifically, your Spark program will analyze a dataset consisting of New York City Taxi trip reports in the Year 2013. The dataset was released under the FOIL (The Freedom of Information Law) and made public by Chris Whong (https://chriswhong.com/open-data/foiling-nycs-boro-taxi-trip-data/).\n",
    "\n",
    "The dataset is a simple `csv` file. Each taxi trip report is a different line in the file. Among\n",
    "other things, each trip report includes the starting point, the drop-off point, corresponding timestamps, and\n",
    "information related to the payment. The data are reported by the time that the trip ended, i.e., upon arrive in\n",
    "the order of the drop-off timestamps.\n",
    "The attributes present on each line of the file are, in order:"
   ]
  },
  {
   "cell_type": "markdown",
   "metadata": {},
   "source": [
    "| attribute    | description                                                       |\n",
    "| -------------|-------------------------------------------------------------------|\n",
    "| medallion    | an md5sum of the identifier of the taxi - vehicle bound (Taxi ID) |\n",
    "| hack_license | an md5sum of the identifier for the taxi license (driver ID)      |\n",
    "| vendor_id    |identifies the vendor  |\n",
    "| pickup_datetime\t|time when the passenger(s) were picked up  |\n",
    "| payment_type\t |the payment method -credit card or cash  |\n",
    "| fare_amount\t |fare amount in dollars  |\n",
    "| surcharge\t |surcharge in dollars  |\n",
    "| mta_tax\t |tax in dollars  |\n",
    "| tip_amount\t |tip in dollars  |\n",
    "| tolls_amount\t |bridge and tunnel tolls in dollars  |\n",
    "| total_amount\t |total paid amount in dollars  |"
   ]
  },
  {
   "cell_type": "markdown",
   "metadata": {},
   "source": [
    "Data files:\n",
    "* `taxi_small_subset.csv` - This is a subset of the entire big file. You can examine this file to see what the data look like. Also, you can use this file for running your code in a single-node platform (e.g., in Vocareum) and debug it, before running your code on the big file in the cluster.   \n",
    "* `2013_weekdays.csv` - This is a file with the dates of 365 days of the year 2013 with their corresponding week day. This file is used in task 4 to do join.\n",
    "* S3 URI `s3://comp643bucket/homework/spark_taxicab/trip*` - This is the address of the entire dataset available in S3, which is a big file (18.4 GB). Once you debugged your code on the small subset, your final task is to run your code on this big file over an EMR cluster in AWS."
   ]
  },
  {
   "cell_type": "markdown",
   "metadata": {},
   "source": [
    "**For this homework, you need to complete 5 tasks described below.** \n",
    "\n",
    "**For tasks 1 through 4, write your Spark code in this Jupyter Notebook and run your code on the small subset of data, i.e., `taxi_small_subset.csv`, in Vocareum. This helps you debug your Spark program easier since you're running it in an interactive single-node platform and on a small dataset.**     \n",
    "\n",
    "**Once you've debugged your code on a small dataset, for task 5, you need to execute your Spark code for tasks 1 through 4, in an AWS EMR cluster on the big dataset that is stored in S3 (`s3://comp643bucket/homework/spark_taxicab/trip*`).** "
   ]
  },
  {
   "cell_type": "code",
   "execution_count": 1,
   "metadata": {
    "collapsed": true
   },
   "outputs": [],
   "source": [
    "import pyspark"
   ]
  },
  {
   "cell_type": "code",
   "execution_count": 2,
   "metadata": {},
   "outputs": [
    {
     "name": "stdout",
     "output_type": "stream",
     "text": [
      "env: JAVA_HOME=/usr/lib/jvm/java-8-openjdk-amd64\n"
     ]
    }
   ],
   "source": [
    "# pyspark works best with java8 \n",
    "# set JAVA_HOME enviroment variable to java8 path \n",
    "%env JAVA_HOME = /usr/lib/jvm/java-8-openjdk-amd64"
   ]
  },
  {
   "cell_type": "code",
   "execution_count": 3,
   "metadata": {
    "collapsed": true
   },
   "outputs": [],
   "source": [
    "sc = pyspark.SparkContext()"
   ]
  },
  {
   "cell_type": "markdown",
   "metadata": {},
   "source": [
    "**Read the data file into an RDD**"
   ]
  },
  {
   "cell_type": "code",
   "execution_count": 4,
   "metadata": {
    "collapsed": true
   },
   "outputs": [],
   "source": [
    "taxi = sc.textFile('data/taxi_small_subset.csv')"
   ]
  },
  {
   "cell_type": "code",
   "execution_count": 5,
   "metadata": {},
   "outputs": [
    {
     "data": {
      "text/plain": [
       "71153"
      ]
     },
     "execution_count": 5,
     "metadata": {},
     "output_type": "execute_result"
    }
   ],
   "source": [
    "taxi.count()"
   ]
  },
  {
   "cell_type": "code",
   "execution_count": 6,
   "metadata": {},
   "outputs": [
    {
     "data": {
      "text/plain": [
       "['medallion, hack_license, vendor_id, pickup_datetime, payment_type, fare_amount, surcharge, mta_tax, tip_amount, tolls_amount, total_amount',\n",
       " '7DD1D6A5E432ACBD68A734587B589B9B,EF3FD28F7D39F614BF68B51F0256B050,CMT,2013-08-28 06:53:33,CSH,12,0,0.5,0,0,12.5',\n",
       " 'CEBDF34FE2DA2E9233B87C2E703004FF,D9EA31E70BE082F423D42860FD4BD240,CMT,NULL,CSH,7,1,0.5,0,0,8.5']"
      ]
     },
     "execution_count": 6,
     "metadata": {},
     "output_type": "execute_result"
    }
   ],
   "source": [
    "taxi.take(3)"
   ]
  },
  {
   "cell_type": "markdown",
   "metadata": {},
   "source": [
    "## Task 1 - clean the dataset (20 pts)\n",
    "\n",
    "Write a Spark program that reads the dataset into an RDD, splits each line by `,` to extract field values, and cleans the RDD through the following steps:\n",
    "* Remove lines with any missing value indicated by `NULL` \n",
    "* Validate the type of the following fields and remove lines with any invalid field value:\n",
    "    * `pickup_datetime` must match this pattern 'YYYY-MM-DD HH:MM:SS'\n",
    "    * All fileds in dollars (`fare_amount`, `surcharge`, `mta_tax`, `tip_amount`, `tolls_amount`, `total_amount`) must be non-negative numbers (with or without a decimal point)\n",
    "    \n",
    "After each step of cleaning, run `count()` on your RDD, to see how many lines have been left. \n",
    "\n",
    "Below, we give you a set of cells you can use to walk through the analysis procress. You are also welcome to simply write all of your code in one cell, following your own logic."
   ]
  },
  {
   "cell_type": "markdown",
   "metadata": {},
   "source": [
    "### Split each line by `,` to extract field values"
   ]
  },
  {
   "cell_type": "code",
   "execution_count": 7,
   "metadata": {
    "collapsed": true
   },
   "outputs": [],
   "source": [
    "\n",
    "split_data= taxi.map(lambda line: line.split(','))\n",
    "# split_data.take(3)"
   ]
  },
  {
   "cell_type": "code",
   "execution_count": 9,
   "metadata": {},
   "outputs": [
    {
     "data": {
      "text/plain": [
       "[['medallion',\n",
       "  ' hack_license',\n",
       "  ' vendor_id',\n",
       "  ' pickup_datetime',\n",
       "  ' payment_type',\n",
       "  ' fare_amount',\n",
       "  ' surcharge',\n",
       "  ' mta_tax',\n",
       "  ' tip_amount',\n",
       "  ' tolls_amount',\n",
       "  ' total_amount'],\n",
       " ['7DD1D6A5E432ACBD68A734587B589B9B',\n",
       "  'EF3FD28F7D39F614BF68B51F0256B050',\n",
       "  'CMT',\n",
       "  '2013-08-28 06:53:33',\n",
       "  'CSH',\n",
       "  '12',\n",
       "  '0',\n",
       "  '0.5',\n",
       "  '0',\n",
       "  '0',\n",
       "  '12.5'],\n",
       " ['CEBDF34FE2DA2E9233B87C2E703004FF',\n",
       "  'D9EA31E70BE082F423D42860FD4BD240',\n",
       "  'CMT',\n",
       "  'NULL',\n",
       "  'CSH',\n",
       "  '7',\n",
       "  '1',\n",
       "  '0.5',\n",
       "  '0',\n",
       "  '0',\n",
       "  '8.5']]"
      ]
     },
     "execution_count": 9,
     "metadata": {},
     "output_type": "execute_result"
    }
   ],
   "source": [
    "split_data.take(3)"
   ]
  },
  {
   "cell_type": "markdown",
   "metadata": {},
   "source": [
    "### Clean the RDD"
   ]
  },
  {
   "cell_type": "markdown",
   "metadata": {},
   "source": [
    "**Remove lines with any `NULL` value**"
   ]
  },
  {
   "cell_type": "code",
   "execution_count": 10,
   "metadata": {
    "collapsed": true
   },
   "outputs": [],
   "source": [
    "# removed_nulls_line = split_data.filter(lambda row: not any(x=='NULL' for x in row))\n",
    "# removed_nulls_line.take(5)"
   ]
  },
  {
   "cell_type": "code",
   "execution_count": 11,
   "metadata": {},
   "outputs": [
    {
     "data": {
      "text/plain": [
       "[['medallion',\n",
       "  ' hack_license',\n",
       "  ' vendor_id',\n",
       "  ' pickup_datetime',\n",
       "  ' payment_type',\n",
       "  ' fare_amount',\n",
       "  ' surcharge',\n",
       "  ' mta_tax',\n",
       "  ' tip_amount',\n",
       "  ' tolls_amount',\n",
       "  ' total_amount'],\n",
       " ['7DD1D6A5E432ACBD68A734587B589B9B',\n",
       "  'EF3FD28F7D39F614BF68B51F0256B050',\n",
       "  'CMT',\n",
       "  '2013-08-28 06:53:33',\n",
       "  'CSH',\n",
       "  '12',\n",
       "  '0',\n",
       "  '0.5',\n",
       "  '0',\n",
       "  '0',\n",
       "  '12.5'],\n",
       " ['A6E8AD830F49F7B358D52419084D42A0',\n",
       "  'B1F1E21144EC5D9EC144AF9E4FBF320E',\n",
       "  'CMT',\n",
       "  '2013/08/29 12:59:08',\n",
       "  'CSH',\n",
       "  '6',\n",
       "  '0',\n",
       "  '0.5',\n",
       "  '0',\n",
       "  '0',\n",
       "  '6.5']]"
      ]
     },
     "execution_count": 11,
     "metadata": {},
     "output_type": "execute_result"
    }
   ],
   "source": [
    "removed_nulls_line = split_data.filter(lambda row: 'NULL' not in row)\n",
    "removed_nulls_line.take(3)"
   ]
  },
  {
   "cell_type": "markdown",
   "metadata": {},
   "source": [
    "**Run `count()` on your RDD to see how many lines have been left**"
   ]
  },
  {
   "cell_type": "code",
   "execution_count": 12,
   "metadata": {},
   "outputs": [
    {
     "data": {
      "text/plain": [
       "71141"
      ]
     },
     "execution_count": 12,
     "metadata": {},
     "output_type": "execute_result"
    }
   ],
   "source": [
    "removed_nulls_line.count()"
   ]
  },
  {
   "cell_type": "code",
   "execution_count": 13,
   "metadata": {
    "collapsed": true
   },
   "outputs": [],
   "source": [
    "\n",
    "# pickup_datetime_rdd = removed_nulls_line.map(lambda row: row[3])\n",
    "# pickup_datetime_rdd.take(5)"
   ]
  },
  {
   "cell_type": "markdown",
   "metadata": {},
   "source": [
    "**Remove lines with `pickup_datetime` that does not match this pattern 'YYYY-MM-DD HH:MM:SS'**\n",
    "\n",
    "For this task, you can use Python `re` module along with your Spark code."
   ]
  },
  {
   "cell_type": "code",
   "execution_count": 15,
   "metadata": {
    "collapsed": true
   },
   "outputs": [],
   "source": [
    "import re"
   ]
  },
  {
   "cell_type": "code",
   "execution_count": 16,
   "metadata": {
    "collapsed": true
   },
   "outputs": [],
   "source": [
    "pat = r'\\d{4}-\\d{2}-\\d{2} \\d{2}:\\d{2}:\\d{2}'\n",
    "# bool(re.match(pat, a))"
   ]
  },
  {
   "cell_type": "code",
   "execution_count": 17,
   "metadata": {},
   "outputs": [
    {
     "data": {
      "text/plain": [
       "[['7DD1D6A5E432ACBD68A734587B589B9B',\n",
       "  'EF3FD28F7D39F614BF68B51F0256B050',\n",
       "  'CMT',\n",
       "  '2013-08-28 06:53:33',\n",
       "  'CSH',\n",
       "  '12',\n",
       "  '0',\n",
       "  '0.5',\n",
       "  '0',\n",
       "  '0',\n",
       "  '12.5'],\n",
       " ['506DF1356EA4AAA9DE38EE3103CDAAF9',\n",
       "  'EBE5414C3D3E4DC06885874F0022917A',\n",
       "  'CMT',\n",
       "  '2013-08-27 17:26:48',\n",
       "  'CSH',\n",
       "  '$17.5',\n",
       "  '1',\n",
       "  '0.5',\n",
       "  '0',\n",
       "  '5.33',\n",
       "  '24.33'],\n",
       " ['801D1D2678B78ABC6F4FDBF224108FAB',\n",
       "  'FBF69C3FCBC582B89CF9646BEC45A724',\n",
       "  'CMT',\n",
       "  '2013-08-31 02:32:14',\n",
       "  'CSH',\n",
       "  '5.5',\n",
       "  '0.5',\n",
       "  '0.5',\n",
       "  '0',\n",
       "  '0',\n",
       "  '$6.5']]"
      ]
     },
     "execution_count": 17,
     "metadata": {},
     "output_type": "execute_result"
    }
   ],
   "source": [
    "cleaned_dates = removed_nulls_line.filter(lambda row: re.match(pat, row[3]))\n",
    "cleaned_dates.take(3)"
   ]
  },
  {
   "cell_type": "markdown",
   "metadata": {},
   "source": [
    "**Run `count()` on your RDD to see how many lines have been left**"
   ]
  },
  {
   "cell_type": "code",
   "execution_count": 18,
   "metadata": {},
   "outputs": [
    {
     "data": {
      "text/plain": [
       "71134"
      ]
     },
     "execution_count": 18,
     "metadata": {},
     "output_type": "execute_result"
    }
   ],
   "source": [
    "cleaned_dates.count()"
   ]
  },
  {
   "cell_type": "code",
   "execution_count": 19,
   "metadata": {
    "collapsed": true
   },
   "outputs": [],
   "source": [
    "# # Extract the  dollars fields from each line.\n",
    "# dollars = cleaned_dates.map(lambda row: row[5:])\n",
    "# dollars.take(10)"
   ]
  },
  {
   "cell_type": "markdown",
   "metadata": {},
   "source": [
    "**All the fields indicating an amount in dollar (`fare_amount`, `surcharge`, `mta_tax`, `tip_amount`, `tolls_amount`, `total_amount`) must be non-negative numeric (with or without decimal point) value. Remove lines with any value that does not match this pattern.** \n",
    "\n",
    "For this task, you can use Python `re` module along with your Spark code."
   ]
  },
  {
   "cell_type": "code",
   "execution_count": 20,
   "metadata": {
    "collapsed": true
   },
   "outputs": [],
   "source": [
    "# remove or strip the fields \n",
    "pat2 = \"^\\\\d+(\\\\.\\\\d+)?$\""
   ]
  },
  {
   "cell_type": "code",
   "execution_count": 24,
   "metadata": {
    "collapsed": true
   },
   "outputs": [],
   "source": [
    "cleaned_amts = cleaned_dates.filter(lambda row: all(re.match(pat2, field.strip()) for field in row[5:]))"
   ]
  },
  {
   "cell_type": "code",
   "execution_count": 25,
   "metadata": {},
   "outputs": [
    {
     "data": {
      "text/plain": [
       "[['7DD1D6A5E432ACBD68A734587B589B9B',\n",
       "  'EF3FD28F7D39F614BF68B51F0256B050',\n",
       "  'CMT',\n",
       "  '2013-08-28 06:53:33',\n",
       "  'CSH',\n",
       "  '12',\n",
       "  '0',\n",
       "  '0.5',\n",
       "  '0',\n",
       "  '0',\n",
       "  '12.5'],\n",
       " ['3AEEDFFB3524409B4C17DE01866FFD8D',\n",
       "  '34CFC6CDA6FD2B0546E4B42383D6216D',\n",
       "  'CMT',\n",
       "  '2013-08-31 22:39:51',\n",
       "  'CSH',\n",
       "  '8',\n",
       "  '0.5',\n",
       "  '0.5',\n",
       "  '0',\n",
       "  '0',\n",
       "  '9'],\n",
       " ['D5C5F9B31B67E0C95286065BFA945A4E',\n",
       "  '2BF3D7601BE18817EBF5A21F65F36549',\n",
       "  'CMT',\n",
       "  '2013-08-27 09:54:33',\n",
       "  'CSH',\n",
       "  '5.5',\n",
       "  '0',\n",
       "  '0.5',\n",
       "  '0',\n",
       "  '0',\n",
       "  '6']]"
      ]
     },
     "execution_count": 25,
     "metadata": {},
     "output_type": "execute_result"
    }
   ],
   "source": [
    "cleaned_amts.take(3)"
   ]
  },
  {
   "cell_type": "markdown",
   "metadata": {},
   "source": [
    "**Run `count()` on your RDD to see how many lines have been left**"
   ]
  },
  {
   "cell_type": "code",
   "execution_count": 26,
   "metadata": {},
   "outputs": [
    {
     "data": {
      "text/plain": [
       "71128"
      ]
     },
     "execution_count": 26,
     "metadata": {},
     "output_type": "execute_result"
    }
   ],
   "source": [
    "cleaned_amts.count()"
   ]
  },
  {
   "cell_type": "markdown",
   "metadata": {},
   "source": [
    "## Task 2 - compute total revenue by dates (20 pts)\n",
    "\n",
    "Write a Spark program on your derived cleaned RDD (from task 1) that computes the total amount of revenue (`total_amount` field) for each date (`pickup_datetime` field without time portions - only dates). Then, sort your RDD by the total revenue in ascending order and print out the 5 lines with the smallest total revenue. That shows the 5 dates with least total revenue.   "
   ]
  },
  {
   "cell_type": "code",
   "execution_count": 27,
   "metadata": {},
   "outputs": [
    {
     "data": {
      "text/plain": [
       "[('2013-01-23', 8.5),\n",
       " ('2013-08-10', 23.5),\n",
       " ('2013-04-07', 26.0),\n",
       " ('2013-03-24', 28.0),\n",
       " ('2013-03-21', 31.25)]"
      ]
     },
     "execution_count": 27,
     "metadata": {},
     "output_type": "execute_result"
    }
   ],
   "source": [
    "# Extract the date from the pickup_datetime field and map it to (date, total_amount)\n",
    "revenue_rdd = cleaned_amts.map(lambda row: (row[3].split(' ')[0], float(row[10])))\n",
    "\n",
    "# Compute the total revenue for each date\n",
    "date_revenue_rdd = revenue_rdd.reduceByKey(lambda x, y: x + y)\n",
    "\n",
    "# Sort the RDD by total revenue in ascending order\n",
    "sorted_rdd = date_revenue_rdd.sortBy(lambda x: x[1])\n",
    "\n",
    "# Print the 5 lines with the smallest total revenue\n",
    "smallest_revenues = sorted_rdd.take(5)\n",
    "print(smallest_revenues)"
   ]
  },
  {
   "cell_type": "markdown",
   "metadata": {},
   "source": [
    "## Task 3 - compute total revenue by taxi drivers  (20 pts)\n",
    "\n",
    "Write a Spark program on your derived cleaned RDD (from task 1) that computes the total amount of revenue (`total_amount` field) for each taxi driver (`hack_license`). Then, sort your RDD by the total revenue in descending order and print out the top 5 lines with the largest total revenue. That shows the 5 taxi drivers with most total revenue. "
   ]
  },
  {
   "cell_type": "code",
   "execution_count": 28,
   "metadata": {},
   "outputs": [
    {
     "data": {
      "text/plain": [
       "[('CFCD208495D565EF66E7DFF9F98764DA', 508.5),\n",
       " ('178C58D2C909125EE599C388CC1A311C', 356.9),\n",
       " ('83DDCD2CC7035BEBED7AC4255688308A', 355.0),\n",
       " ('B9E81BA07F0DDA5B2FBCA9B33CCC7C9A', 335.3),\n",
       " ('98949EA21D9A4DA151ADEE27E4DEDE7C', 333.32)]"
      ]
     },
     "execution_count": 28,
     "metadata": {},
     "output_type": "execute_result"
    }
   ],
   "source": [
    "# Extract the hack_license and total_amount fields and map them to (hack_license, total_amount)\n",
    "revenue_rdd = cleaned_amts.map(lambda row: (row[1], float(row[10])))\n",
    "\n",
    "# Compute the total revenue for each taxi driver\n",
    "driver_revenue_rdd = revenue_rdd.reduceByKey(lambda x, y: x + y)\n",
    "\n",
    "# Sort the RDD by total revenue in descending order\n",
    "sorted_rdd = driver_revenue_rdd.sortBy(lambda x: x[1], ascending=False)\n",
    "\n",
    "# Print the top 5 lines with the largest total revenue\n",
    "largest_revenues = sorted_rdd.take(5)\n",
    "print(largest_revenues)"
   ]
  },
  {
   "cell_type": "markdown",
   "metadata": {},
   "source": [
    "## Task 4 - compute total revenue by weekday through join operation (20 pts)\n",
    "\n",
    "Write a Spark program on your derived cleaned RDD (from task 1) that computes the total amount of revenue (`total_amount` field) for each 7 days of the week (Sunday through Saturday).\n",
    "\n",
    "To extract the week days and experimenting more with Spark, we suggest that you use `join` RDD operation to join the taxi dataset with the provided `2013_weekdays.csv` file that contains the dates for 365 days of the year 2013 and their corresponding week days.    \n",
    "\n",
    "First, read `2013_weekdays.csv` into an RDD, and split each line by `,` to extract the field values.\n",
    "\n",
    "Then, manipulate this RDD and your derived cleaned RDD of taxi dataset (from task 1), to be able to join the two and compute the total revenue by weekday.  \n",
    "\n",
    "Finally, sum the total amount per weekday, and return the result in descending order of the total revenue."
   ]
  },
  {
   "cell_type": "code",
   "execution_count": 29,
   "metadata": {},
   "outputs": [
    {
     "data": {
      "text/plain": [
       "[['Date', 'WeekDay'],\n",
       " ['2013-01-01', 'Tuesday'],\n",
       " ['2013-01-02', 'Wednesday'],\n",
       " ['2013-01-03', 'Thursday'],\n",
       " ['2013-01-04', 'Friday']]"
      ]
     },
     "execution_count": 29,
     "metadata": {},
     "output_type": "execute_result"
    }
   ],
   "source": [
    "# Read 2013_weekdays.csv into an RDD and split each line by comma\n",
    "weekdays_rdd = sc.textFile(\"data/2013_weekdays.csv\").map(lambda line: line.split(','))\n",
    "weekdays_rdd.take(5)"
   ]
  },
  {
   "cell_type": "code",
   "execution_count": 30,
   "metadata": {},
   "outputs": [
    {
     "data": {
      "text/plain": [
       "[('Date', 'WeekDay'),\n",
       " ('2013-01-01', 'Tuesday'),\n",
       " ('2013-01-02', 'Wednesday'),\n",
       " ('2013-01-03', 'Thursday'),\n",
       " ('2013-01-04', 'Friday')]"
      ]
     },
     "execution_count": 30,
     "metadata": {},
     "output_type": "execute_result"
    }
   ],
   "source": [
    "# Map the weekdays RDD to (date, weekday) key-value pairs\n",
    "weekdays_mapping = weekdays_rdd.map(lambda row: (row[0], row[1]))\n",
    "weekdays_mapping.take(5)"
   ]
  },
  {
   "cell_type": "code",
   "execution_count": 31,
   "metadata": {},
   "outputs": [
    {
     "data": {
      "text/plain": [
       "[('2013-08-28', 12.5),\n",
       " ('2013-08-31', 9.0),\n",
       " ('2013-08-27', 6.0),\n",
       " ('2013-08-30', 6.0),\n",
       " ('2013-08-27', 14.5)]"
      ]
     },
     "execution_count": 31,
     "metadata": {},
     "output_type": "execute_result"
    }
   ],
   "source": [
    "# Map the cleaned RDD to (date, total_amount) key-value pairs\n",
    "revenue_rdd = cleaned_amts.map(lambda row: (row[3].split(' ')[0], float(row[10])))\n",
    "\n",
    "revenue_rdd.take(5)"
   ]
  },
  {
   "cell_type": "code",
   "execution_count": 32,
   "metadata": {
    "collapsed": true
   },
   "outputs": [],
   "source": [
    "# Join the revenue RDD with weekdays mapping RDD\n",
    "joined_rdd = revenue_rdd.join(weekdays_mapping)\n",
    "# joined_rdd.take(5)"
   ]
  },
  {
   "cell_type": "code",
   "execution_count": 33,
   "metadata": {},
   "outputs": [
    {
     "data": {
      "text/plain": [
       "[('Thursday', 161163.15000000014),\n",
       " ('Saturday', 160515.6800000002),\n",
       " ('Friday', 160117.9600000003),\n",
       " ('Tuesday', 155380.2500000001),\n",
       " ('Wednesday', 154230.5700000003),\n",
       " ('Monday', 138941.37000000017),\n",
       " ('Sunday', 137148.43000000014)]"
      ]
     },
     "execution_count": 33,
     "metadata": {},
     "output_type": "execute_result"
    }
   ],
   "source": [
    "# Compute the total revenue by weekday\n",
    "weekday_revenue_rdd = joined_rdd.map(lambda row: (row[1][1], row[1][0])).reduceByKey(lambda x, y: x + y)\n",
    "# Sort the RDD by total revenue in descending order\n",
    "sorted_rdd = weekday_revenue_rdd.sortBy(lambda x: x[1], ascending=False)\n",
    "print(sorted_rdd.collect())"
   ]
  },
  {
   "cell_type": "markdown",
   "metadata": {},
   "source": [
    "## Task 5 - run on a big file in EMR cluster (20 pts)\n",
    "\n",
    "For the last part of this homework, you need to run your Spark code for tasks 1 through 4, on a big file in S3, in an AWS EMR cluster. \n",
    "\n",
    "Follow the instructions on `Lab - Spark Intro (AWS)` to create and connect to an EMR cluster in AWS and run Spark programs in there. \n",
    "\n",
    "**For better efficiency, in the hardware configuration of your cluster, choose `m5.xlarge` as instance type, and type 4 as the number of instances.**  \n",
    "\n",
    "The big file exists in this S3 URI: `s3://comp643bucket/homework/spark_taxicab/trip*.csv`\n",
    "\n",
    "To read the big file from S3 into an RDD, use the code below:\n",
    "\n",
    "`taxi = sc.textFile (\"s3://comp643bucket/homework/spark_taxicab/trip*.csv\")`\n",
    "\n",
    "Repeat tasks 1 through 4 on this `taxi` RDD created from the big file, and print your results in the markdown cells below (keep the results from the small subset above). "
   ]
  },
  {
   "cell_type": "markdown",
   "metadata": {},
   "source": [
    "**Repeat task 1 on the big file in your EMR cluster - print the number of lines (`count()`) of your cleaned RDD from the big file, here:** "
   ]
  },
  {
   "cell_type": "markdown",
   "metadata": {},
   "source": [
    "Copy your result in this markdown cell ...\n",
    "\n",
    "Step 1 - 173179771\n",
    "\n",
    "Step 2 - 173179759\n",
    "\n",
    "Step 3 - 173176128"
   ]
  },
  {
   "cell_type": "markdown",
   "metadata": {},
   "source": [
    "**Repeat task 2 on the big file in your EMR cluster - copy your result, which is the 5 dates with least total revenue, from the big file, here:** "
   ]
  },
  {
   "cell_type": "markdown",
   "metadata": {},
   "source": [
    "Copy your result in this markdown cell ...\n",
    "\n",
    "[('2013-08-11', 3071194.309999993), ('2013-08-04', 3073608.610000252), ('2013-08-03', 3182263.760000205), ('2013-12-25', 3465875.3099999367), ('2013-08-02', 3530800.6300003207)]  \n",
    "\n",
    "\n"
   ]
  },
  {
   "cell_type": "markdown",
   "metadata": {},
   "source": [
    "**Repeat task 3 on the big file in your EMR cluster - copy your result, which is the top 5 drivers with the most revenue, from the big file, here:**  "
   ]
  },
  {
   "cell_type": "markdown",
   "metadata": {},
   "source": [
    "Copy your result in this markdown cell ...\n",
    "\n",
    "[('664927CDE376A32789BA48BF55DFB7E3', 728594.3300000001), ('CFCD208495D565EF66E7DFF9F98764DA', 615220.1499999996), ('E4F99C9ABE9861F18BCD38BC63D007A9', 563445.9400000002), ('D85749E8852FCC66A990E40605607B2F', 246374.59), ('1EDF99EE9DAC182027330EF48828B54A', 242656.10000000012)]  \n",
    "\n"
   ]
  },
  {
   "cell_type": "markdown",
   "metadata": {},
   "source": [
    "**Repeat task 4 on the big file in your EMR cluster. `2013_weekdays.csv` is also available in S3 through this URI `s3://comp643bucket/homework/spark_taxicab/2013_weekdays.csv`. Copy your result, which is the sum of revenue per weekday in descending order of total revenue, from the big file, here:**  "
   ]
  },
  {
   "cell_type": "markdown",
   "metadata": {},
   "source": [
    "Copy your result in this markdown cell ...\n",
    "\n",
    " [('Friday', 394663376.43002135), ('Thursday', 386085572.97001326), ('Wednesday', 372733935.33000714), ('Saturday', 368934554.23002493), ('Tuesday', 362666230.20001316), ('Sunday', 341485998.91002494), ('Monday', 334818004.12003046)] "
   ]
  },
  {
   "cell_type": "code",
   "execution_count": null,
   "metadata": {
    "collapsed": true
   },
   "outputs": [],
   "source": []
  }
 ],
 "metadata": {
  "kernelspec": {
   "display_name": "Python 3 [3.7]",
   "language": "python",
   "name": "python3"
  },
  "language_info": {
   "codemirror_mode": {
    "name": "ipython",
    "version": 3
   },
   "file_extension": ".py",
   "mimetype": "text/x-python",
   "name": "python",
   "nbconvert_exporter": "python",
   "pygments_lexer": "ipython3",
   "version": "3.7.5"
  }
 },
 "nbformat": 4,
 "nbformat_minor": 2
}
