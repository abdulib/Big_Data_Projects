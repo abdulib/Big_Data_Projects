{
 "cells": [
  {
   "cell_type": "markdown",
   "id": "ce27d924-4738-4293-9176-4d7ee2c74b1d",
   "metadata": {},
   "source": [
    "# Spotify Dataset Analysis and song genre classification"
   ]
  },
  {
   "cell_type": "markdown",
   "id": "e3fdc7f0-1839-4e2b-aec4-97fa97c664a2",
   "metadata": {},
   "source": [
    "This study aims to analyze the extensive Spotify 1-million song dataset by employing cutting-edge big data techniques, particularly leveraging Spark ML. The primary objective is to extract valuable insights from the data and address various pertinent questions. Additionally, the study endeavors to construct a robust machine learning model based on the dataset. By utilizing these advanced methodologies, we aim to unlock hidden patterns and correlations within the vast musical dataset provided by Spotify."
   ]
  },
  {
   "cell_type": "markdown",
   "id": "fc429a1d-6544-4035-b1bf-2cb743befdc2",
   "metadata": {},
   "source": [
    "\n",
    "\n",
    "Audio Features: Description\n",
    "- Popularity - Track popularity (0 to 100)\n",
    "- Year - Year released (2000 to 2023)\n",
    "- Danceability - Track suitability for dancing (0.0 to 1.0)\n",
    "- Energy - The perceptual measure of intensity and activity (0.0 to 1.0)\n",
    "- Key - The key, the track is in (-1 to -11)\n",
    "- Loudness - Overall loudness of track in decibels (-60 to 0 dB)\n",
    "- Mode - Modality of the track (Major '1'/ Minor '0')\n",
    "- Speechiness - Presence of spoken words in the track\n",
    "- Acousticness - Confidence measure from 0 to 1 of whether the track is acoustic\n",
    "- Instrumentalness - Whether tracks contain vocals. (0.0 to 1.0)\n",
    "- Liveness - Presence of audience in the recording (0.0 - 1.0)\n",
    "- Valence - Musical positiveness (0.0 to 1.0)\n",
    "- Tempo - Tempo of the track in beats per minute (BPM)\n",
    "- Time_signature - Estimated time signature (3 to 7)\n",
    "- Duration_ms - Duration of track in milliseconds"
   ]
  },
  {
   "cell_type": "code",
   "execution_count": 1,
   "id": "da4f3a66-ea17-4fe5-962a-009a3a5f0c69",
   "metadata": {},
   "outputs": [],
   "source": [
    "#importing necessary libraries and packages\n",
    "import sys\n",
    "import os\n",
    "import numpy as np\n",
    "import pandas as pd\n",
    "import seaborn as sns\n",
    "import matplotlib.pyplot as plt\n",
    "\n",
    "from pyspark.sql import SparkSession\n",
    "from pyspark.ml.feature import VectorAssembler, StandardScaler, OneHotEncoder,  StringIndexer\n",
    "from pyspark.ml.classification import RandomForestClassifier\n",
    "from pyspark.ml.evaluation import MulticlassClassificationEvaluator\n",
    "from pyspark.ml.regression import RandomForestRegressor\n",
    "from pyspark.ml.evaluation import RegressionEvaluator\n",
    "from pyspark.sql import functions as F\n",
    "from pyspark.sql.window import Window\n",
    "\n",
    "\n",
    "from pyspark.ml import Pipeline\n",
    "from pyspark.sql.functions import col"
   ]
  },
  {
   "cell_type": "code",
   "execution_count": 2,
   "id": "8ccd30a2-9d39-4eed-b0fd-c2a28188d00e",
   "metadata": {},
   "outputs": [
    {
     "name": "stderr",
     "output_type": "stream",
     "text": [
      "23/08/02 14:23:55 WARN Utils: Your hostname, MacBook-Air-5.local resolves to a loopback address: 127.0.0.1; using 192.168.1.9 instead (on interface en0)\n",
      "23/08/02 14:23:55 WARN Utils: Set SPARK_LOCAL_IP if you need to bind to another address\n",
      "Setting default log level to \"WARN\".\n",
      "To adjust logging level use sc.setLogLevel(newLevel). For SparkR, use setLogLevel(newLevel).\n",
      "23/08/02 14:23:56 WARN NativeCodeLoader: Unable to load native-hadoop library for your platform... using builtin-java classes where applicable\n"
     ]
    }
   ],
   "source": [
    "# Step 1: Create a Spark session\n",
    "spark = SparkSession.builder \\\n",
    "    .appName(\"Song Genre Classification\") \\\n",
    "    .getOrCreate()"
   ]
  },
  {
   "cell_type": "code",
   "execution_count": 3,
   "id": "027999c1-bf48-4458-b66e-67c8ad927ca5",
   "metadata": {},
   "outputs": [
    {
     "name": "stderr",
     "output_type": "stream",
     "text": [
      "                                                                                \r"
     ]
    }
   ],
   "source": [
    "# Step 2: Data Loading and Exploration\n",
    "\n",
    "df = spark.read.csv(\"spotify_data.csv\", header=True, inferSchema=True)"
   ]
  },
  {
   "cell_type": "code",
   "execution_count": 4,
   "id": "08b60002-cceb-41c1-89aa-8a25ae682d4f",
   "metadata": {},
   "outputs": [],
   "source": [
    "df = df.na.drop()\n",
    "df = df.drop(\"_c0\")"
   ]
  },
  {
   "cell_type": "code",
   "execution_count": 5,
   "id": "4c07c6bb-cb64-4884-9209-d858acc3ad4d",
   "metadata": {},
   "outputs": [],
   "source": [
    "# Convert necessary columns to numerical data types\n",
    "numerical_features = ['popularity', 'danceability', 'energy', 'key', 'loudness',\n",
    "                      'speechiness', 'acousticness', 'instrumentalness', 'liveness']\n",
    "for feature in numerical_features:\n",
    "    df = df.withColumn(feature, col(feature).cast(\"double\"))"
   ]
  },
  {
   "cell_type": "code",
   "execution_count": 6,
   "id": "ada733a5-d40f-4e6e-888a-7e1885c3ebb2",
   "metadata": {},
   "outputs": [
    {
     "name": "stdout",
     "output_type": "stream",
     "text": [
      "root\n",
      " |-- artist_name: string (nullable = true)\n",
      " |-- track_name: string (nullable = true)\n",
      " |-- track_id: string (nullable = true)\n",
      " |-- popularity: double (nullable = true)\n",
      " |-- year: string (nullable = true)\n",
      " |-- genre: string (nullable = true)\n",
      " |-- danceability: double (nullable = true)\n",
      " |-- energy: double (nullable = true)\n",
      " |-- key: double (nullable = true)\n",
      " |-- loudness: double (nullable = true)\n",
      " |-- mode: string (nullable = true)\n",
      " |-- speechiness: double (nullable = true)\n",
      " |-- acousticness: double (nullable = true)\n",
      " |-- instrumentalness: double (nullable = true)\n",
      " |-- liveness: double (nullable = true)\n",
      " |-- valence: double (nullable = true)\n",
      " |-- tempo: double (nullable = true)\n",
      " |-- duration_ms: double (nullable = true)\n",
      " |-- time_signature: double (nullable = true)\n",
      "\n"
     ]
    }
   ],
   "source": [
    "# Print DataFrame schema and non-null counts\n",
    "df.printSchema()\n",
    "# df.show()"
   ]
  },
  {
   "cell_type": "code",
   "execution_count": 7,
   "id": "051c8f97-b710-4737-ac51-c85e9945ac19",
   "metadata": {},
   "outputs": [],
   "source": [
    "# spark.setLogLevel(newLevel)"
   ]
  },
  {
   "cell_type": "code",
   "execution_count": 8,
   "id": "8e2e1d8c-a077-4207-8f5f-589dee4e206b",
   "metadata": {},
   "outputs": [],
   "source": [
    "# Convert 'popularity' and 'year' columns to appropriate data types (integer)\n",
    "df = df.withColumn(\"popularity\", df[\"popularity\"].cast(\"int\"))\n",
    "df = df.withColumn(\"year\", df[\"year\"].cast(\"int\"))\n",
    "df = df.na.drop()\n"
   ]
  },
  {
   "cell_type": "code",
   "execution_count": 9,
   "id": "fc8563bd-380d-401b-a286-2df9e48281ac",
   "metadata": {},
   "outputs": [
    {
     "name": "stderr",
     "output_type": "stream",
     "text": [
      "23/08/02 14:24:34 WARN CSVHeaderChecker: CSV header does not conform to the schema.\n",
      " Header: , artist_name, track_name, track_id, popularity, year, genre, danceability, energy, key, loudness, mode, speechiness, acousticness, instrumentalness, liveness, valence, tempo, duration_ms, time_signature\n",
      " Schema: _c0, artist_name, track_name, track_id, popularity, year, genre, danceability, energy, key, loudness, mode, speechiness, acousticness, instrumentalness, liveness, valence, tempo, duration_ms, time_signature\n",
      "Expected: _c0 but found: \n",
      "CSV file: file:///Users/ibrahimabdulrahmon/Desktop/Rice%20MDS/COMP643/Independent%20Study%20Project/spotify_data.csv\n",
      "[Stage 2:===================================================>       (7 + 1) / 8]\r"
     ]
    },
    {
     "name": "stdout",
     "output_type": "stream",
     "text": [
      "+-------+----+------------------+----+\n",
      "|  genre|year|average_popularity|rank|\n",
      "+-------+----+------------------+----+\n",
      "|    sad|2000|              61.0|   1|\n",
      "|    pop|2001| 48.36431226765799|   1|\n",
      "|    pop|2002|46.834920634920636|   1|\n",
      "|    pop|2003| 48.19383259911894|   1|\n",
      "|    pop|2004| 49.44318181818182|   1|\n",
      "|    pop|2005| 50.41596638655462|   1|\n",
      "|    pop|2006| 49.84320557491289|   1|\n",
      "|    pop|2007| 48.94961240310077|   1|\n",
      "|    pop|2008| 51.35925925925926|   1|\n",
      "|    pop|2009| 51.89756097560976|   1|\n",
      "|    pop|2010| 53.56190476190476|   1|\n",
      "|    pop|2011|  53.8326359832636|   1|\n",
      "|    pop|2012| 54.37755102040816|   1|\n",
      "|    pop|2013| 55.58536585365854|   1|\n",
      "|    pop|2014| 59.91025641025641|   1|\n",
      "|    pop|2015| 59.39417989417989|   1|\n",
      "|hip-hop|2016| 50.81607795371498|   1|\n",
      "|    pop|2017| 63.59344262295082|   1|\n",
      "|    pop|2018|63.375545851528386|   1|\n",
      "|    pop|2019|  65.4245283018868|   1|\n",
      "+-------+----+------------------+----+\n",
      "only showing top 20 rows\n",
      "\n"
     ]
    },
    {
     "name": "stderr",
     "output_type": "stream",
     "text": [
      "                                                                                \r"
     ]
    }
   ],
   "source": [
    "# Group the data by 'genre' and 'year' and calculate the average popularity for each combination\n",
    "genre_popularity = df.groupBy(\"genre\", \"year\").agg(F.avg(\"popularity\").alias(\"average_popularity\"))\n",
    "\n",
    "# Order the results by the average popularity in descending order to find the most popular genres in each year\n",
    "windowSpec = Window.partitionBy(\"year\").orderBy(F.desc(\"average_popularity\"))\n",
    "most_popular_genres = genre_popularity.withColumn(\"rank\", F.rank().over(windowSpec)).filter(F.col(\"rank\") == 1)\n",
    "\n",
    "# Show the final results\n",
    "most_popular_genres.show()"
   ]
  },
  {
   "cell_type": "code",
   "execution_count": 10,
   "id": "7b4129c1-af08-4fb9-89aa-77986b9b708d",
   "metadata": {},
   "outputs": [
    {
     "name": "stderr",
     "output_type": "stream",
     "text": [
      "23/08/02 14:24:44 WARN CSVHeaderChecker: CSV header does not conform to the schema.\n",
      " Header: , artist_name, track_name, track_id, popularity, year, genre, danceability, energy, key, loudness, mode, speechiness, acousticness, instrumentalness, liveness, valence, tempo, duration_ms, time_signature\n",
      " Schema: _c0, artist_name, track_name, track_id, popularity, year, genre, danceability, energy, key, loudness, mode, speechiness, acousticness, instrumentalness, liveness, valence, tempo, duration_ms, time_signature\n",
      "Expected: _c0 but found: \n",
      "CSV file: file:///Users/ibrahimabdulrahmon/Desktop/Rice%20MDS/COMP643/Independent%20Study%20Project/spotify_data.csv\n",
      "[Stage 8:===================================================>       (7 + 1) / 8]\r"
     ]
    },
    {
     "name": "stdout",
     "output_type": "stream",
     "text": [
      "+--------------------+----------+\n",
      "|         artist_name|num_tracks|\n",
      "+--------------------+----------+\n",
      "|         Traditional|      4033|\n",
      "|       Grateful Dead|      2320|\n",
      "|Johann Sebastian ...|      2064|\n",
      "|   Giacomo Meyerbeer|      1234|\n",
      "|       Elvis Presley|      1232|\n",
      "|    Armin van Buuren|      1061|\n",
      "|Wolfgang Amadeus ...|      1016|\n",
      "|     Astor Piazzolla|       929|\n",
      "|         Hans Zimmer|       863|\n",
      "|       Andrei Krylov|       841|\n",
      "|         Vybz Kartel|       806|\n",
      "| Andrew Lloyd Webber|       802|\n",
      "|Ludwig van Beethoven|       777|\n",
      "|        Jim Brickman|       766|\n",
      "|      Steven Halpern|       762|\n",
      "|       Nature Sounds|       749|\n",
      "|        Denise Gagne|       733|\n",
      "|    Francisco Canaro|       699|\n",
      "|           Glee Cast|       698|\n",
      "|          Sonu Nigam|       673|\n",
      "+--------------------+----------+\n",
      "only showing top 20 rows\n",
      "\n"
     ]
    },
    {
     "name": "stderr",
     "output_type": "stream",
     "text": [
      "                                                                                \r"
     ]
    }
   ],
   "source": [
    "# Group the data by 'artist_name' and count the number of tracks for each artist\n",
    "artist_track_counts = df.groupBy(\"artist_name\").agg(F.count(\"track_id\").alias(\"num_tracks\"))\n",
    "\n",
    "# Order the results in descending order to find the artists with the highest number of tracks\n",
    "most_tracks_artists = artist_track_counts.orderBy(F.desc(\"num_tracks\"))\n",
    "\n",
    "# Show the artists with the highest number of tracks\n",
    "most_tracks_artists.show()"
   ]
  },
  {
   "cell_type": "code",
   "execution_count": 11,
   "id": "bc7c8155-cade-40c0-b27f-8c568ce2695a",
   "metadata": {},
   "outputs": [
    {
     "name": "stderr",
     "output_type": "stream",
     "text": [
      "23/08/02 14:24:54 WARN CSVHeaderChecker: CSV header does not conform to the schema.\n",
      " Header: , artist_name, track_name, track_id, popularity, year, genre, danceability, energy, key, loudness, mode, speechiness, acousticness, instrumentalness, liveness, valence, tempo, duration_ms, time_signature\n",
      " Schema: _c0, artist_name, track_name, track_id, popularity, year, genre, danceability, energy, key, loudness, mode, speechiness, acousticness, instrumentalness, liveness, valence, tempo, duration_ms, time_signature\n",
      "Expected: _c0 but found: \n",
      "CSV file: file:///Users/ibrahimabdulrahmon/Desktop/Rice%20MDS/COMP643/Independent%20Study%20Project/spotify_data.csv\n",
      "23/08/02 14:24:59 WARN CSVHeaderChecker: CSV header does not conform to the schema.\n",
      " Header: , artist_name, track_name, track_id, popularity, year, genre, danceability, energy, key, loudness, mode, speechiness, acousticness, instrumentalness, liveness, valence, tempo, duration_ms, time_signature\n",
      " Schema: _c0, artist_name, track_name, track_id, popularity, year, genre, danceability, energy, key, loudness, mode, speechiness, acousticness, instrumentalness, liveness, valence, tempo, duration_ms, time_signature\n",
      "Expected: _c0 but found: \n",
      "CSV file: file:///Users/ibrahimabdulrahmon/Desktop/Rice%20MDS/COMP643/Independent%20Study%20Project/spotify_data.csv\n",
      "                                                                                \r"
     ]
    },
    {
     "data": {
      "image/png": "[encoded data removed]",
      "text/plain": [
       "<Figure size 640x480 with 1 Axes>"
      ]
     },
     "metadata": {},
     "output_type": "display_data"
    },
    {
     "name": "stderr",
     "output_type": "stream",
     "text": [
      "23/08/02 14:25:03 WARN CSVHeaderChecker: CSV header does not conform to the schema.\n",
      " Header: , artist_name, track_name, track_id, popularity, year, genre, danceability, energy, key, loudness, mode, speechiness, acousticness, instrumentalness, liveness, valence, tempo, duration_ms, time_signature\n",
      " Schema: _c0, artist_name, track_name, track_id, popularity, year, genre, danceability, energy, key, loudness, mode, speechiness, acousticness, instrumentalness, liveness, valence, tempo, duration_ms, time_signature\n",
      "Expected: _c0 but found: \n",
      "CSV file: file:///Users/ibrahimabdulrahmon/Desktop/Rice%20MDS/COMP643/Independent%20Study%20Project/spotify_data.csv\n",
      "[Stage 13:==================================================>       (7 + 1) / 8]\r"
     ]
    },
    {
     "name": "stdout",
     "output_type": "stream",
     "text": [
      "Average Track Duration of Popular Songs: 3.39 minutes\n"
     ]
    },
    {
     "name": "stderr",
     "output_type": "stream",
     "text": [
      "                                                                                \r"
     ]
    }
   ],
   "source": [
    "# Convert 'duration_ms' to minutes for better readability\n",
    "df = df.withColumn(\"duration_minutes\", F.col(\"duration_ms\") / 60000)\n",
    "\n",
    "# Calculate the distribution of track duration\n",
    "duration_distribution = df.select(\"duration_minutes\").rdd.flatMap(lambda x: x).histogram(20)\n",
    "\n",
    "# Extract the histogram bins and counts\n",
    "bins = duration_distribution[0]\n",
    "counts = duration_distribution[1]\n",
    "\n",
    "# Display the distribution of track duration using a histogram\n",
    "plt.bar(bins[:-1], counts, width=(bins[1] - bins[0]), align=\"edge\")\n",
    "plt.xlabel(\"Track Duration (minutes)\")\n",
    "plt.ylabel(\"Number of Tracks\")\n",
    "plt.title(\"Distribution of Track Duration on Spotify\")\n",
    "plt.show()\n",
    "\n",
    "# Calculate the average track duration for popular songs\n",
    "popular_songs = df.filter(F.col(\"popularity\") >= 80)  # You can adjust the popularity threshold as needed\n",
    "average_duration_popular_songs = popular_songs.agg(F.avg(\"duration_minutes\")).collect()[0][0]\n",
    "\n",
    "print(f\"Average Track Duration of Popular Songs: {average_duration_popular_songs:.2f} minutes\")\n"
   ]
  },
  {
   "cell_type": "code",
   "execution_count": 12,
   "id": "0b3f1b4a-b7c8-480b-8883-f5a368a0d93d",
   "metadata": {},
   "outputs": [],
   "source": [
    "# Drop irrelevant columns\n",
    "# df = df.drop(\"_c0\", \"artist_name\", \"track_name\", \"track_id\", \"Mode\")\n",
    "df = df.select(\"popularity\", \"danceability\", \"energy\", \"key\", \"loudness\",\n",
    "               \"speechiness\", \"acousticness\", \"instrumentalness\", \"liveness\")\n",
    "\n",
    "# Remove rows containing any null or NaN values\n",
    "df = df.na.drop()\n",
    "\n",
    "# # Convert 'Mode' column to categorical\n",
    "# df = df.withColumn(\"Mode\", col(\"Mode\").cast(\"string\"))\n",
    "\n",
    "# # Convert 'key' column to string\n",
    "# df = df.withColumn(\"key\", col(\"key\").cast(\"string\"))\n",
    "\n",
    "# # Convert column names to lowercase\n",
    "# new_column_names = [name.lower() for name in df.columns]\n",
    "# df = df.toDF(*new_column_names)"
   ]
  },
  {
   "cell_type": "code",
   "execution_count": 13,
   "id": "78dfe0d5-575d-448c-8362-bbf1dc426f23",
   "metadata": {},
   "outputs": [],
   "source": [
    "# df = df.na.drop()"
   ]
  },
  {
   "cell_type": "code",
   "execution_count": 14,
   "id": "7eabc9f9-c2be-488c-9b17-49a4e31891a1",
   "metadata": {},
   "outputs": [
    {
     "name": "stdout",
     "output_type": "stream",
     "text": [
      "root\n",
      " |-- popularity: integer (nullable = true)\n",
      " |-- danceability: double (nullable = true)\n",
      " |-- energy: double (nullable = true)\n",
      " |-- key: double (nullable = true)\n",
      " |-- loudness: double (nullable = true)\n",
      " |-- speechiness: double (nullable = true)\n",
      " |-- acousticness: double (nullable = true)\n",
      " |-- instrumentalness: double (nullable = true)\n",
      " |-- liveness: double (nullable = true)\n",
      "\n"
     ]
    }
   ],
   "source": [
    "df.printSchema()"
   ]
  },
  {
   "cell_type": "code",
   "execution_count": 15,
   "id": "21c3a4b9-f6f7-4898-97c4-5e37ee43d3cb",
   "metadata": {},
   "outputs": [],
   "source": [
    "# Step 3: Data Preprocessing\n",
    "# Combine numerical features\n",
    "assembler = VectorAssembler(inputCols=numerical_features[1:], outputCol=\"features\")  # Excluding 'popularity'\n",
    "df = assembler.transform(df)\n"
   ]
  },
  {
   "cell_type": "code",
   "execution_count": 16,
   "id": "bdb3cc74-b261-437a-a80e-5f8b0b6daba0",
   "metadata": {},
   "outputs": [],
   "source": [
    "# Step 4: Splitting the Data\n",
    "train_data, test_data = df.randomSplit([0.8, 0.2], seed=42)\n"
   ]
  },
  {
   "cell_type": "code",
   "execution_count": 17,
   "id": "12d3400f-eb7f-4510-98a1-2edaefd5ebe8",
   "metadata": {},
   "outputs": [],
   "source": [
    "# Step 5: Building the Regression Model\n",
    "rf_regressor = RandomForestRegressor(labelCol=\"popularity\", featuresCol=\"features\", numTrees=100)\n"
   ]
  },
  {
   "cell_type": "code",
   "execution_count": 18,
   "id": "4c4ff0c1-e017-4c01-8949-6ad20d55d142",
   "metadata": {},
   "outputs": [
    {
     "name": "stderr",
     "output_type": "stream",
     "text": [
      "23/08/02 14:25:26 WARN CSVHeaderChecker: CSV header does not conform to the schema.\n",
      " Header: , artist_name, track_name, track_id, popularity, year, genre, danceability, energy, key, loudness, mode, speechiness, acousticness, instrumentalness, liveness, valence, tempo, duration_ms, time_signature\n",
      " Schema: _c0, artist_name, track_name, track_id, popularity, year, genre, danceability, energy, key, loudness, mode, speechiness, acousticness, instrumentalness, liveness, valence, tempo, duration_ms, time_signature\n",
      "Expected: _c0 but found: \n",
      "CSV file: file:///Users/ibrahimabdulrahmon/Desktop/Rice%20MDS/COMP643/Independent%20Study%20Project/spotify_data.csv\n",
      "23/08/02 14:25:30 WARN CSVHeaderChecker: CSV header does not conform to the schema.\n",
      " Header: , artist_name, track_name, track_id, popularity, year, genre, danceability, energy, key, loudness, mode, speechiness, acousticness, instrumentalness, liveness, valence, tempo, duration_ms, time_signature\n",
      " Schema: _c0, artist_name, track_name, track_id, popularity, year, genre, danceability, energy, key, loudness, mode, speechiness, acousticness, instrumentalness, liveness, valence, tempo, duration_ms, time_signature\n",
      "Expected: _c0 but found: \n",
      "CSV file: file:///Users/ibrahimabdulrahmon/Desktop/Rice%20MDS/COMP643/Independent%20Study%20Project/spotify_data.csv\n",
      "23/08/02 14:25:35 WARN CSVHeaderChecker: CSV header does not conform to the schema.\n",
      " Header: , artist_name, track_name, track_id, popularity, year, genre, danceability, energy, key, loudness, mode, speechiness, acousticness, instrumentalness, liveness, valence, tempo, duration_ms, time_signature\n",
      " Schema: _c0, artist_name, track_name, track_id, popularity, year, genre, danceability, energy, key, loudness, mode, speechiness, acousticness, instrumentalness, liveness, valence, tempo, duration_ms, time_signature\n",
      "Expected: _c0 but found: \n",
      "CSV file: file:///Users/ibrahimabdulrahmon/Desktop/Rice%20MDS/COMP643/Independent%20Study%20Project/spotify_data.csv\n",
      "23/08/02 14:25:39 WARN CSVHeaderChecker: CSV header does not conform to the schema.\n",
      " Header: , artist_name, track_name, track_id, popularity, year, genre, danceability, energy, key, loudness, mode, speechiness, acousticness, instrumentalness, liveness, valence, tempo, duration_ms, time_signature\n",
      " Schema: _c0, artist_name, track_name, track_id, popularity, year, genre, danceability, energy, key, loudness, mode, speechiness, acousticness, instrumentalness, liveness, valence, tempo, duration_ms, time_signature\n",
      "Expected: _c0 but found: \n",
      "CSV file: file:///Users/ibrahimabdulrahmon/Desktop/Rice%20MDS/COMP643/Independent%20Study%20Project/spotify_data.csv\n",
      "23/08/02 14:25:43 WARN MemoryStore: Not enough space to cache rdd_60_5 in memory! (computed 5.2 MiB so far)\n",
      "23/08/02 14:25:43 WARN MemoryStore: Not enough space to cache rdd_60_2 in memory! (computed 7.8 MiB so far)\n",
      "23/08/02 14:25:43 WARN MemoryStore: Not enough space to cache rdd_60_4 in memory! (computed 11.8 MiB so far)\n",
      "23/08/02 14:25:43 WARN MemoryStore: Not enough space to cache rdd_60_6 in memory! (computed 11.8 MiB so far)\n",
      "23/08/02 14:25:43 WARN MemoryStore: Not enough space to cache rdd_60_3 in memory! (computed 11.8 MiB so far)\n",
      "23/08/02 14:25:43 WARN MemoryStore: Not enough space to cache rdd_60_1 in memory! (computed 11.8 MiB so far)\n",
      "23/08/02 14:25:43 WARN BlockManager: Persisting block rdd_60_2 to disk instead.\n",
      "23/08/02 14:25:43 WARN BlockManager: Persisting block rdd_60_3 to disk instead.\n",
      "23/08/02 14:25:43 WARN BlockManager: Persisting block rdd_60_1 to disk instead.\n",
      "23/08/02 14:25:43 WARN BlockManager: Persisting block rdd_60_5 to disk instead.\n",
      "23/08/02 14:25:43 WARN BlockManager: Persisting block rdd_60_6 to disk instead.\n",
      "23/08/02 14:25:43 WARN BlockManager: Persisting block rdd_60_4 to disk instead.\n",
      "23/08/02 14:25:43 WARN MemoryStore: Not enough space to cache rdd_60_7 in memory! (computed 18.4 MiB so far)\n",
      "23/08/02 14:25:43 WARN MemoryStore: Not enough space to cache rdd_60_0 in memory! (computed 11.8 MiB so far)\n",
      "23/08/02 14:25:43 WARN BlockManager: Persisting block rdd_60_0 to disk instead.\n",
      "23/08/02 14:25:43 WARN BlockManager: Persisting block rdd_60_7 to disk instead.\n",
      "23/08/02 14:25:45 WARN MemoryStore: Not enough space to cache rdd_60_0 in memory! (computed 41.9 MiB so far)\n",
      "23/08/02 14:25:45 WARN MemoryStore: Not enough space to cache rdd_60_1 in memory! (computed 41.9 MiB so far)\n",
      "23/08/02 14:25:45 WARN MemoryStore: Not enough space to cache rdd_60_2 in memory! (computed 28.0 MiB so far)\n",
      "23/08/02 14:25:45 WARN MemoryStore: Not enough space to cache rdd_60_3 in memory! (computed 41.9 MiB so far)\n",
      "23/08/02 14:25:46 WARN MemoryStore: Not enough space to cache rdd_60_5 in memory! (computed 28.0 MiB so far)\n",
      "23/08/02 14:25:49 WARN MemoryStore: Not enough space to cache rdd_60_5 in memory! (computed 28.0 MiB so far)\n",
      "23/08/02 14:25:49 WARN MemoryStore: Not enough space to cache rdd_60_3 in memory! (computed 41.9 MiB so far)\n",
      "23/08/02 14:25:49 WARN MemoryStore: Not enough space to cache rdd_60_0 in memory! (computed 41.9 MiB so far)\n",
      "23/08/02 14:25:49 WARN MemoryStore: Not enough space to cache rdd_60_2 in memory! (computed 41.9 MiB so far)\n",
      "23/08/02 14:25:49 WARN MemoryStore: Not enough space to cache rdd_60_1 in memory! (computed 41.9 MiB so far)\n",
      "23/08/02 14:25:52 WARN MemoryStore: Not enough space to cache rdd_60_2 in memory! (computed 28.0 MiB so far)\n",
      "23/08/02 14:25:52 WARN MemoryStore: Not enough space to cache rdd_60_0 in memory! (computed 41.9 MiB so far)\n",
      "23/08/02 14:25:52 WARN MemoryStore: Not enough space to cache rdd_60_1 in memory! (computed 41.9 MiB so far)\n",
      "23/08/02 14:25:52 WARN MemoryStore: Not enough space to cache rdd_60_3 in memory! (computed 41.9 MiB so far)\n",
      "23/08/02 14:25:52 WARN MemoryStore: Not enough space to cache rdd_60_5 in memory! (computed 41.9 MiB so far)\n",
      "23/08/02 14:25:57 WARN MemoryStore: Not enough space to cache rdd_60_3 in memory! (computed 28.0 MiB so far)\n",
      "23/08/02 14:25:57 WARN MemoryStore: Not enough space to cache rdd_60_5 in memory! (computed 41.9 MiB so far)\n",
      "23/08/02 14:25:57 WARN MemoryStore: Not enough space to cache rdd_60_1 in memory! (computed 41.9 MiB so far)\n",
      "23/08/02 14:25:57 WARN MemoryStore: Not enough space to cache rdd_60_0 in memory! (computed 41.9 MiB so far)\n",
      "23/08/02 14:25:57 WARN MemoryStore: Not enough space to cache rdd_60_2 in memory! (computed 41.9 MiB so far)\n",
      "23/08/02 14:26:02 WARN MemoryStore: Not enough space to cache rdd_60_5 in memory! (computed 28.0 MiB so far)\n",
      "23/08/02 14:26:02 WARN MemoryStore: Not enough space to cache rdd_60_0 in memory! (computed 41.9 MiB so far)\n",
      "23/08/02 14:26:02 WARN MemoryStore: Not enough space to cache rdd_60_3 in memory! (computed 41.9 MiB so far)\n",
      "23/08/02 14:26:02 WARN MemoryStore: Not enough space to cache rdd_60_2 in memory! (computed 41.9 MiB so far)\n",
      "23/08/02 14:26:02 WARN MemoryStore: Not enough space to cache rdd_60_1 in memory! (computed 41.9 MiB so far)\n",
      "                                                                                \r"
     ]
    }
   ],
   "source": [
    "# Step 6: Model Training\n",
    "model = rf_regressor.fit(train_data)"
   ]
  },
  {
   "cell_type": "code",
   "execution_count": 19,
   "id": "4a96a764-5bd1-4ef4-a17d-d9f84e51df37",
   "metadata": {},
   "outputs": [
    {
     "name": "stderr",
     "output_type": "stream",
     "text": [
      "23/08/02 14:26:09 WARN CSVHeaderChecker: CSV header does not conform to the schema.\n",
      " Header: , artist_name, track_name, track_id, popularity, year, genre, danceability, energy, key, loudness, mode, speechiness, acousticness, instrumentalness, liveness, valence, tempo, duration_ms, time_signature\n",
      " Schema: _c0, artist_name, track_name, track_id, popularity, year, genre, danceability, energy, key, loudness, mode, speechiness, acousticness, instrumentalness, liveness, valence, tempo, duration_ms, time_signature\n",
      "Expected: _c0 but found: \n",
      "CSV file: file:///Users/ibrahimabdulrahmon/Desktop/Rice%20MDS/COMP643/Independent%20Study%20Project/spotify_data.csv\n",
      "[Stage 30:>                                                         (0 + 8) / 8]\r"
     ]
    },
    {
     "name": "stdout",
     "output_type": "stream",
     "text": [
      "Root Mean Squared Error (RMSE): 15.160333584712706\n"
     ]
    },
    {
     "name": "stderr",
     "output_type": "stream",
     "text": [
      "                                                                                \r"
     ]
    }
   ],
   "source": [
    "# Step 10: Model Evaluation\n",
    "predictions = model.transform(test_data)\n",
    "evaluator = RegressionEvaluator(labelCol=\"popularity\", predictionCol=\"prediction\", metricName=\"rmse\")\n",
    "rmse = evaluator.evaluate(predictions)\n",
    "print(f\"Root Mean Squared Error (RMSE): {rmse}\")"
   ]
  },
  {
   "cell_type": "code",
   "execution_count": 20,
   "id": "85700468-6a97-49e3-93a7-246d367a1c2a",
   "metadata": {},
   "outputs": [],
   "source": [
    "# predicted_vs_actual = predictions.select(\"popularity\", \"prediction\")\n",
    "# predicted_vs_actual.show()"
   ]
  },
  {
   "cell_type": "code",
   "execution_count": 136,
   "id": "80f500fe-12a0-4361-8963-9e1cba63e419",
   "metadata": {},
   "outputs": [],
   "source": [
    "spark.stop()"
   ]
  },
  {
   "cell_type": "code",
   "execution_count": null,
   "id": "cf8454c4-9736-44b8-8361-4b7fd3ca676b",
   "metadata": {},
   "outputs": [],
   "source": []
  }
 ],
 "metadata": {
  "kernelspec": {
   "display_name": "Python 3 (ipykernel)",
   "language": "python",
   "name": "python3"
  },
  "language_info": {
   "codemirror_mode": {
    "name": "ipython",
    "version": 3
   },
   "file_extension": ".py",
   "mimetype": "text/x-python",
   "name": "python",
   "nbconvert_exporter": "python",
   "pygments_lexer": "ipython3",
   "version": "3.9.13"
  }
 },
 "nbformat": 4,
 "nbformat_minor": 5
}
