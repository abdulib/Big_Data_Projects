{
 "cells": [
  {
   "cell_type": "markdown",
   "metadata": {},
   "source": [
    "# Homework - kNN implementation with Spark "
   ]
  },
  {
   "cell_type": "markdown",
   "metadata": {},
   "source": [
    "In this homework you will implement kNN algorithm with Spark, and apply that to classify text documents. “Classification”\n",
    "is the task of labeling documents based upon their contents. You will be asked to perform 4 tasks, covering data preparation, feature extraction, and classification."
   ]
  },
  {
   "cell_type": "markdown",
   "metadata": {},
   "source": [
    "## Data"
   ]
  },
  {
   "cell_type": "markdown",
   "metadata": {},
   "source": [
    "The dataset you will be using in this homework is the same as the dataset you used in the Spark introduction lab. That is the widely-used “20 newsgroups” dataset. A newsgroup post is like an old-school blog post, and this dataset has 19,997 such posts from 20 different categories, according to where the blog post was made. \n",
    "\n",
    "The 20 categories are listed in the file `news_categories.txt`. The category name can be extracted from the id of the document. For example, \n",
    "* the document with the id `20_newsgroups/comp.graphics/37261` is from the `comp.graphics` category, \n",
    "* the document with the id `20_newsgroups/sci.med/59082` is from the `sci.med` category. \n",
    "\n",
    "The data file has one line per document of text. It can be accessed at:\n",
    "\n",
    "`s3://comp643bucket/lab/spark_intro_aws/20_news_same_line.txt`\n",
    "\n",
    "We have also provided a small subset of the data in the file `20_news_same_line_random_sample.txt`, so that you can debug your Spark code on a small dataset, before run it on the entire dataset. "
   ]
  },
  {
   "cell_type": "code",
   "execution_count": 1,
   "metadata": {
    "collapsed": true
   },
   "outputs": [],
   "source": [
    "import pyspark\n",
    "import re\n",
    "import numpy as np\n",
    "from collections import Counter"
   ]
  },
  {
   "cell_type": "code",
   "execution_count": 2,
   "metadata": {
    "collapsed": true
   },
   "outputs": [],
   "source": [
    "import os\n",
    "import sys\n"
   ]
  },
  {
   "cell_type": "code",
   "execution_count": 3,
   "metadata": {
    "collapsed": true
   },
   "outputs": [],
   "source": [
    "os.environ['PYSPARK_PYTHON'] = sys.executable\n",
    "os.environ['PYSPARK_DRIVER_PYTHON'] = sys.executable"
   ]
  },
  {
   "cell_type": "code",
   "execution_count": 4,
   "metadata": {},
   "outputs": [
    {
     "name": "stdout",
     "output_type": "stream",
     "text": [
      "env: JAVA_HOME=/usr/lib/jvm/java-8-openjdk-amd64\n"
     ]
    }
   ],
   "source": [
    "# pyspark works best with java8 \n",
    "# set JAVA_HOME enviroment variable to java8 path \n",
    "%env JAVA_HOME = /usr/lib/jvm/java-8-openjdk-amd64"
   ]
  },
  {
   "cell_type": "code",
   "execution_count": 5,
   "metadata": {
    "collapsed": true
   },
   "outputs": [],
   "source": [
    "sc = pyspark.SparkContext()"
   ]
  },
  {
   "cell_type": "markdown",
   "metadata": {},
   "source": [
    "## Task 1 - compute \"bag of words\" for each document (25 pts)\n",
    "\n",
    "For task 1, we want to extract \"bag of words\" features for documents. \n",
    "\n",
    "The first part of this task is the same as what you've already implemented in `Lab - Spark introduction (Vocareum)`. We need a dictionary, as an RDD, that includes the 20,000 most frequent words\n",
    "in the training corpus. The result of such an RDD must be in this format:\n",
    "`\n",
    "[('mostcommonword', 0),\n",
    " ('nextmostcommonword', 1),\n",
    " ...]\n",
    "`\n",
    "\n",
    "**NOTE**: There aren’t 20,000 unique words in the small dataset (`20_news_same_line_random_sample.txt`). Use only the top 50 words when working with this file.\n",
    "\n",
    "For this part, we provided our code, so that you only need to run it, to create this dictionary, named `refDict`, as an RDD. This `refDict` RDD will be our reference dictionary of words. **The words in `refDict` will be our reference words for which we will compute \"bag of words\" and \"TF-IDF\" features for our training corpus and finally for the test documents.**"
   ]
  },
  {
   "cell_type": "markdown",
   "metadata": {},
   "source": [
    "**Provided code to create the reference dictionary of words.**\n",
    "\n",
    "Run the code cells below to create the `refDict` RDD."
   ]
  },
  {
   "cell_type": "code",
   "execution_count": 6,
   "metadata": {
    "collapsed": true
   },
   "outputs": [],
   "source": [
    "# set the number of dictionary words \n",
    "# 50 for the small dataset\n",
    "# 20,000 for the large dataset\n",
    "numWords = 50"
   ]
  },
  {
   "cell_type": "code",
   "execution_count": 7,
   "metadata": {
    "collapsed": true
   },
   "outputs": [],
   "source": [
    "# load up the dataset \n",
    "# \"data/20_news_same_line_random_sample.txt\" for small dataset \n",
    "# \"s3://comp643bucket/lab/spark_intro_aws/20_news_same_line.txt\" for entire large dataset\n",
    "corpus = sc.textFile (\"data/20_news_same_line_random_sample.txt\")\n",
    "\n",
    "# each entry in validLines will be a line from the text file\n",
    "validLines = corpus.filter(lambda x : 'id=' in x)\n",
    "\n",
    "# now we transform it into a bunch of (docID, text) pairs\n",
    "keyAndText = validLines.map(lambda x : (x[x.index('id=\"') + 4 : x.index('\" url=')], x[x.index('\"> ') + 3:x.index(' </doc>')]))\n",
    "\n",
    "# now we split the text in each (docID, text) pair into a list of words\n",
    "# after this, we have a data set with (docID, [\"word1\", \"word2\", \"word3\", ...])\n",
    "# we have a bit of fancy regular expression stuff here to make sure that we do not\n",
    "# die on some of the documents                       \n",
    "regex = re.compile('[^a-zA-Z]')  \n",
    "keyAndListOfWords = keyAndText.map(lambda x : (str(x[0]), regex.sub(' ', x[1]).lower().split()))\n",
    "\n",
    "# now get the top 20,000 words... first change (docID, [\"word1\", \"word2\", \"word3\", ...])\n",
    "# to (\"word1\", 1) (\"word2\", 1)...\n",
    "allWords = keyAndListOfWords.flatMap(lambda x: ((j, 1) for j in x[1]))\n",
    "\n",
    "# now, count all of the words, giving us (\"word1\", 1433), (\"word2\", 3423423), etc.\n",
    "allCounts = allWords.reduceByKey (lambda a, b: a + b)\n",
    "\n",
    "# and get the top numWords (50 for small dataset, 20K for large dataset) frequent words in a local array\n",
    "topWords = allCounts.top (numWords, lambda x : x[1])\n",
    "\n",
    "# and we'll create an RDD that has a bunch of (word, rank) pairs\n",
    "# start by creating an RDD that has the number 0 up to numWords (50 for small dataset, 20K for large dataset) \n",
    "# numWords is the number of words that will be in our dictionary\n",
    "twentyK = sc.parallelize(range(numWords))\n",
    "\n",
    "# now, we transform (0), (1), (2), ... to (\"mostcommonword\", 0) (\"nextmostcommon\", 1), ...\n",
    "# the number will be the spot in the dictionary used to tell us where the word is located\n",
    "refDict = twentyK.map(lambda x:(topWords[x][0],x))"
   ]
  },
  {
   "cell_type": "code",
   "execution_count": 8,
   "metadata": {
    "collapsed": true
   },
   "outputs": [],
   "source": [
    "# allWords.take(3)"
   ]
  },
  {
   "cell_type": "code",
   "execution_count": 9,
   "metadata": {
    "scrolled": true
   },
   "outputs": [
    {
     "data": {
      "text/plain": [
       "[('the', 0),\n",
       " ('to', 1),\n",
       " ('of', 2),\n",
       " ('a', 3),\n",
       " ('and', 4),\n",
       " ('i', 5),\n",
       " ('in', 6),\n",
       " ('is', 7),\n",
       " ('that', 8),\n",
       " ('it', 9)]"
      ]
     },
     "execution_count": 9,
     "metadata": {},
     "output_type": "execute_result"
    }
   ],
   "source": [
    "refDict.take(10)"
   ]
  },
  {
   "cell_type": "markdown",
   "metadata": {},
   "source": [
    "Now, your task is to write Spark code to create \"bag of words\" features based on the words in the reference dictionary, `refDict`.  \n",
    "\n",
    "You need to create a new RDD, named `bag_of_words`. Each element of this RDD corresponds to one document, and is a key-value pair. Specifically, the key is the document identifier `id` (like `20 newsgroups/comp.graphics/37261`) and the value is a `numpy` array with `numWords` (50 for small dataset, 20K for large dataset) entries, where the item index i of the array is the number of times the word with rank i in `refDict` (created in the first part) appears in that document. This array corresponds to the \"bag of words\" features for each document.  \n",
    "\n",
    "Once you created this `bag_of_words` RDD, print out the result arrays for these documents:\n",
    "* `20 newsgroups/soc.religion.christian/21626`\n",
    "* `20 newsgroups/talk.politics.misc/179019`\n",
    "* `20 newsgroups/rec.autos/103167`\n",
    "\n",
    "Since each array is going to be huge, with a lot of zeros, just print out non-zero entries in the array (that is, for an array `a`, print out `a[a.nonzero()`].\n",
    "\n",
    "<font color=red>Important: `refDict` is an RDD and must stay as an RDD as you work with; don't collect it into a Python object to work with</font> "
   ]
  },
  {
   "cell_type": "code",
   "execution_count": 10,
   "metadata": {
    "collapsed": true
   },
   "outputs": [],
   "source": [
    "# start your code here ...\n",
    "# keyAndListOfWords.take(1)\n",
    "\n",
    "# make values of keyAndListOfWords into key to enable join to refDict\n",
    "values_to_keys = keyAndListOfWords.flatMap(lambda x: ((word, x[0]) for word in x[1]))\n",
    "# values_to_keys.take(10)\n",
    "\n",
    "#join the switched key/values to refDict and select relevant data only\n",
    "joined = values_to_keys.join(refDict).map(lambda x: x[1])\n",
    "# joined.take(10)\n",
    "\n",
    "# Group the data by keys and map the values\n",
    "grouped_data = joined.groupByKey().mapValues(list)\n",
    "# grouped_data.take(1)"
   ]
  },
  {
   "cell_type": "code",
   "execution_count": 11,
   "metadata": {
    "collapsed": true
   },
   "outputs": [],
   "source": [
    "# Create a function to count the occurrences of each index in the NumPy arrays\n",
    "def count_indices(arr):\n",
    "    counts = np.zeros(numWords)\n",
    "    unique, index_counts = np.unique(arr, return_counts=True)\n",
    "    counts[unique] = index_counts\n",
    "    return counts\n",
    "\n",
    "# Map each key to a NumPy array representing the count of each index in the original NumPy array\n",
    "bag_of_words = grouped_data.mapValues(lambda arr: count_indices(arr))\n",
    "# bag_of_words.take(2)"
   ]
  },
  {
   "cell_type": "markdown",
   "metadata": {},
   "source": [
    "Once you created your `bag_of_words` RDD, print out the result arrays for these documents,\n",
    "* `20_newsgroups/soc.religion.christian/21626`\n",
    "* `20_newsgroups/talk.politics.misc/179019`\n",
    "* `20_newsgroups/rec.autos/103167`\n",
    "\n",
    "by running the code cells below:"
   ]
  },
  {
   "cell_type": "code",
   "execution_count": 12,
   "metadata": {},
   "outputs": [
    {
     "data": {
      "text/plain": [
       "array([ 7.,  2., 10.,  4.,  4.,  5.,  1.,  6.,  7.,  8.,  1.,  1.,  1.,\n",
       "        3.,  1.,  2.,  1.,  1.,  2.,  1.,  1.,  1.,  1.,  1.,  1.,  1.,\n",
       "        1.,  1.,  1.])"
      ]
     },
     "execution_count": 12,
     "metadata": {},
     "output_type": "execute_result"
    }
   ],
   "source": [
    "arr1_1 = np.array(bag_of_words.filter(lambda x: x[0]=='20_newsgroups/soc.religion.christian/21626').values().collect())\n",
    "arr1_1[arr1_1.nonzero()]"
   ]
  },
  {
   "cell_type": "code",
   "execution_count": 13,
   "metadata": {},
   "outputs": [
    {
     "data": {
      "text/plain": [
       "array([ 7., 23.,  5., 17.,  6.,  5., 14., 10.,  3., 20., 15.,  4., 11.,\n",
       "        1.,  1.,  4.,  4.,  8.,  4.,  3.,  2.,  1.,  2.,  3., 10.,  3.,\n",
       "        1.,  1.,  1.,  1.,  1.,  1.,  2.,  1.,  1.,  1.,  2.,  2.,  2.,\n",
       "        3.])"
      ]
     },
     "execution_count": 13,
     "metadata": {},
     "output_type": "execute_result"
    }
   ],
   "source": [
    "arr1_2 = np.array(bag_of_words.filter(lambda x: x[0]=='20_newsgroups/talk.politics.misc/179019').values().collect())\n",
    "arr1_2[arr1_2.nonzero()]"
   ]
  },
  {
   "cell_type": "code",
   "execution_count": 14,
   "metadata": {},
   "outputs": [
    {
     "data": {
      "text/plain": [
       "array([9., 1., 2., 3., 2., 1., 1., 1., 1., 1., 1., 1., 1., 2., 1., 3., 1.,\n",
       "       1., 1., 1., 1., 1.])"
      ]
     },
     "execution_count": 14,
     "metadata": {},
     "output_type": "execute_result"
    }
   ],
   "source": [
    "arr1_3 = np.array(bag_of_words.filter(lambda x: x[0]=='20_newsgroups/rec.autos/103167').values().collect())\n",
    "arr1_3[arr1_3.nonzero()]"
   ]
  },
  {
   "cell_type": "markdown",
   "metadata": {},
   "source": [
    "## Task 2 - compute TF-IDF for each document (30 pts)\n",
    "\n",
    "It is often difficult to classify documents accurately using raw count vectors (bag of words). Thus, the next task is\n",
    "to write some more Spark code that converts each of the count vectors to TF-IDF vectors. You need to create an RDD of key-value pairs, named `tfidf`, that the keys are document identifiers, and the values are the TF-IDF vector. Again, we are only interested in the top `numWords` (50 for small dataset, 20K for large dataset) most common words as our features.  \n",
    "\n",
    "The item index i in a TF-IDF vector of document d corresponds to the TF-IDF value of the word with rank i in `refDict`. Then, TF-IDF value of a word with rank i for document $d$ is computed as:\n",
    "\n",
    "$$ TF(i, d) \\times IDF(i) $$\n",
    "\n",
    "Where $TF(i, d)$ is: \n",
    "\n",
    "$$ \\frac {\\textrm{Number of occurances of word with rank $i$ in $d$}} {\\textrm{Total number of refDict words in $d$}} $$\n",
    "\n",
    "Note that the “Total number of `refDict` words” is not the number of distinct words. The “total number of words”\n",
    "in “Today is a great day today” is six. \n",
    "\n",
    "And the $IDF(i)$ is:\n",
    "\n",
    "$$ \\ln \\frac {\\textrm{Number of documents in corpus}} {\\textrm{Number of documents having word with rank $i$}} $$\n",
    "\n",
    "Once you created this `tfidf` RDD, print out the non-zero array entries (TF-IDF vector) that you have created for these documents:\n",
    "\n",
    "* 20_newsgroups/soc.religion.christian/21626\n",
    "* 20_newsgroups/talk.politics.misc/179019\n",
    "* 20_newsgroups/rec.autos/103167\n",
    "\n",
    "<font color=red> Important: If you are using `bag_of_words` RDD, don't collect it into a Python object; work with it as an RDD </font>  "
   ]
  },
  {
   "cell_type": "code",
   "execution_count": 15,
   "metadata": {
    "collapsed": true
   },
   "outputs": [],
   "source": [
    "# start your code here ...\n",
    "\n",
    "# Total number of refDict words in d\n",
    "refdict_wrds_in_d = bag_of_words.map(lambda x: (x[0], sum(x[1])))\n",
    "# refdict_wrds_in_d.take(1)\n",
    "\n",
    "#calculate the tf\n",
    "tf = bag_of_words.join(refdict_wrds_in_d).map(lambda doc: (doc[0], doc[1][0]/doc[1][1]))\n",
    "# tf.take(1)"
   ]
  },
  {
   "cell_type": "code",
   "execution_count": 16,
   "metadata": {
    "collapsed": true
   },
   "outputs": [],
   "source": [
    "import math \n",
    "# number of doc in the corpus\n",
    "docs_in_corpus = keyAndListOfWords.count()\n",
    "# docs_in_corpus\n",
    "\n",
    "#get distict docs and words\n",
    "distinct_doc_w_word = refDict.join(values_to_keys).map(lambda x: (x[0], x[1][1])).distinct() \n",
    "\n",
    "# count number of docs with each word.\n",
    "doc_w_word_cnt = distinct_doc_w_word.map(lambda x: (x[0], 1)).reduceByKey(lambda a, b: a + b)\n",
    "doc_w_word_cnt = doc_w_word_cnt.map(lambda x: (x[0], math.log(docs_in_corpus/x[1])))\n",
    "# doc_w_word_cnt.take(10)\n"
   ]
  },
  {
   "cell_type": "code",
   "execution_count": 17,
   "metadata": {
    "collapsed": true
   },
   "outputs": [],
   "source": [
    "idf = doc_w_word_cnt.map(lambda x: ('word', x[1])).groupByKey().mapValues(list)\n",
    "idf = np.array(idf.collect()[0][1])\n",
    "# idf"
   ]
  },
  {
   "cell_type": "code",
   "execution_count": 18,
   "metadata": {
    "collapsed": true
   },
   "outputs": [],
   "source": [
    "tfidf = tf.map(lambda x: (x[0], x[1]*idf))\n",
    "# tfidf.take(1)"
   ]
  },
  {
   "cell_type": "markdown",
   "metadata": {},
   "source": [
    "Once you created your `tfidf` RDD, print out the result arrays for these documents,\n",
    "* `20_newsgroups/soc.religion.christian/21626`\n",
    "* `20_newsgroups/talk.politics.misc/179019`\n",
    "* `20_newsgroups/rec.autos/103167`\n",
    "\n",
    "by running the code cells below:"
   ]
  },
  {
   "cell_type": "code",
   "execution_count": 19,
   "metadata": {},
   "outputs": [
    {
     "data": {
      "text/plain": [
       "array([0.07800198, 0.02174072, 0.11738548, 0.0107545 , 0.04457256,\n",
       "       0.00394884, 0.00652632, 0.01896205, 0.12351629, 0.06211294,\n",
       "       0.00646208, 0.01216225, 0.00720943, 0.02231303, 0.00757658,\n",
       "       0.01506022, 0.0024512 , 0.00831889, 0.01361685, 0.00435679,\n",
       "       0.01180284, 0.0196051 , 0.00851755, 0.00414063, 0.00414063,\n",
       "       0.00947807, 0.01161091])"
      ]
     },
     "execution_count": 19,
     "metadata": {},
     "output_type": "execute_result"
    }
   ],
   "source": [
    "arr2_1 = np.array(tfidf.filter(lambda x: x[0]=='20_newsgroups/soc.religion.christian/21626').values().collect())\n",
    "arr2_1[arr2_1.nonzero()]"
   ]
  },
  {
   "cell_type": "code",
   "execution_count": 20,
   "metadata": {},
   "outputs": [
    {
     "data": {
      "text/plain": [
       "array([0.02915608, 0.09345342, 0.02193855, 0.01708452, 0.02499093,\n",
       "       0.01219725, 0.0165381 , 0.0659553 , 0.00870636, 0.01879464,\n",
       "       0.06875067, 0.01051039, 0.0679739 , 0.00241544, 0.00454608,\n",
       "       0.01077914, 0.01112041, 0.01275744, 0.01132808, 0.00844396,\n",
       "       0.00183245, 0.0023284 , 0.00621898, 0.0095232 , 0.01628508,\n",
       "       0.00696169, 0.00441174, 0.00732812, 0.00485278, 0.00527996,\n",
       "       0.00033145, 0.00154771, 0.00154771, 0.00375902, 0.00153227,\n",
       "       0.00708555, 0.02731467, 0.00751221])"
      ]
     },
     "execution_count": 20,
     "metadata": {},
     "output_type": "execute_result"
    }
   ],
   "source": [
    "arr2_2 = np.array(tfidf.filter(lambda x: x[0]=='20_newsgroups/talk.politics.misc/179019').values().collect())\n",
    "arr2_2[arr2_2.nonzero()]"
   ]
  },
  {
   "cell_type": "code",
   "execution_count": 21,
   "metadata": {},
   "outputs": [
    {
     "data": {
      "text/plain": [
       "array([0.20870801, 0.0226221 , 0.04637956, 0.00493071, 0.02716361,\n",
       "       0.00657693, 0.03672106, 0.02551827, 0.01344812, 0.02531063,\n",
       "       0.01547841, 0.01576747, 0.01567077, 0.01020228, 0.01416888,\n",
       "       0.00040642, 0.02456267, 0.0407998 , 0.02701817, 0.02939655,\n",
       "       0.00861699])"
      ]
     },
     "execution_count": 21,
     "metadata": {},
     "output_type": "execute_result"
    }
   ],
   "source": [
    "arr2_3 = np.array(tfidf.filter(lambda x: x[0]=='20_newsgroups/rec.autos/103167').values().collect())\n",
    "arr2_3[arr2_3.nonzero()]"
   ]
  },
  {
   "cell_type": "markdown",
   "metadata": {},
   "source": [
    "## Task 3 - build a kNN classifier (30 pts)\n",
    "\n",
    "Task 3 is to build a kNN classifier, as a Python function named `predictLabel` in the cell below. This function will take as input a text string (`test_doc`) and a number k, and then output the name of one of the 20 newsgroups. This name is the news group that the classifier thinks that the text string is “closest” to. It is computed using the classical kNN algorithm. \n",
    "\n",
    "Your function first needs to convert the input string into all lower case words, and then compute a TF-IDF vector corresponding to the words in `refDict` created in the first task. Recall that the words in `refDict` is our reference words to compute \"TF-IDF\" features. In task 2, we already computed TF-IDF values of these words for our training corpus. In this task, you need to compute TF-IDF values of these words for the input text string `test_doc`. For that, you need to compute term frequency of these words in the `test_doc`. Since IDF measure of a word only depends on the training corpus, and this measure is already calculated for `refDict` words in task 2, you don't need to re-calculate IDF for the `test_doc` and can re-use what you have.    \n",
    "Then, your function needs to find the k documents in the corpus that are “closest” to the `test_doc` (where distance is computed using the l2 norm between the TF-IDF feature vectors), and returns the newsgroup label that is most frequent in those top k. Ties go to the label with the closest corpus document. \n",
    "\n",
    "Once you have implemented your function, run it on the following 8 test cases, each is an excerpt from a Wikipedia article,\n",
    "chosen to match one of the 20 newsgroups. By reading each test document, you can guess which of the 20 newsgroups is the most relevent topic, and you can compare that with what your prediction function returns. The result you get from the small dataset might not be so accurate, due to the small training corpus. But, once you run it on the entire dataset in S3, you should see reasonable results (with few mis-matches).  \n",
    "\n",
    "<font color=red>Important: `refDict` is an RDD and must stay as an RDD as you work with; don't collect it into a Python object to work with</font> "
   ]
  },
  {
   "cell_type": "code",
   "execution_count": 22,
   "metadata": {
    "collapsed": true
   },
   "outputs": [],
   "source": [
    "# k, test_doc = (10, 'Graphics are pictures and movies created using computers – usually referring to image data created by a computer specifically with help from specialized graphical hardware and software. It is a vast and recent area in computer science. The phrase was coined by computer graphics researchers Verne Hudson and William Fetter of Boeing in 1960. It is often abbreviated as CG, though sometimes erroneously referred to as CGI. Important topics in computer graphics include user interface design, sprite graphics, vector graphics, 3D modeling, shaders, GPU design, implicit surface visualization with ray tracing, and computer vision, among others. The overall methodology depends heavily on the underlying sciences of geometry, optics, and physics. Computer graphics is responsible for displaying art and image data effectively and meaningfully to the user, and processing image data received from the physical world. The interaction and understanding of computers and interpretation of data has been made easier because of computer graphics. Computer graphic development has had a significant impact on many types of media and has revolutionized animation, movies, advertising, video games, and graphic design generally.')\n",
    "# test_doc = sc.parallelize(test_doc.lower().split())\n",
    "# test_doc_dict = test_doc.map(lambda x: (x, 1)).reduceByKey (lambda a, b: a + b)\n",
    "# # test_doc_dict.take(10)\n",
    "# # refDict.take(10)\n",
    "\n",
    "# test_doc_joined = refDict.join(test_doc_dict).map(lambda x: (x[1][0], x[1][1]))\n",
    "\n",
    "# # test_doc_joined.collect()\n"
   ]
  },
  {
   "cell_type": "code",
   "execution_count": 23,
   "metadata": {
    "collapsed": true
   },
   "outputs": [],
   "source": [
    "# test_doc_counts = np.zeros(numWords)\n",
    "\n",
    "# for x in test_doc_joined.collect():\n",
    "#     test_doc_counts[x[0]] = x[1] \n",
    "# # test_doc_counts\n",
    "\n",
    "# test_doc_tf = test_doc_counts/sum(test_doc_counts)\n",
    "# test_doc_tfidf = test_doc_tf * idf\n",
    "# # test_doc_tfidf\n",
    "\n",
    "# # distance = np.linalg.norm(a - b)"
   ]
  },
  {
   "cell_type": "code",
   "execution_count": 24,
   "metadata": {
    "collapsed": true
   },
   "outputs": [],
   "source": [
    "# # calculate the distance\n",
    "# distance = tfidf.map(lambda x: (x[0], np.linalg.norm(test_doc_tfidf - x[1])))\n",
    "# # distance.take(3)\n",
    "\n",
    "# # select the closest\n",
    "# closest = distance.sortBy(lambda x: x[1]).take(k)\n",
    "# output = [x[0].split('/')[1] for x in closest]\n",
    "# output\n",
    "\n",
    "\n",
    "# counter = Counter(output)\n",
    "# counter.most_common(1)[0][0]\n",
    "# # most_frequent = counter.most_common(1)[0][0]\n",
    "\n",
    "# # counter\n",
    "\n",
    "# # a = '20_newsgroups/sci.space/59849'\n",
    "# # a.split('/')[1]"
   ]
  },
  {
   "cell_type": "code",
   "execution_count": 25,
   "metadata": {
    "collapsed": true
   },
   "outputs": [],
   "source": [
    "# k is the number of neighbors to consider\n",
    "# test_doc is the text to compare \n",
    "def predictLabel (k, test_doc):\n",
    "    # your code here\n",
    "    test_doc = sc.parallelize(test_doc.lower().split())\n",
    "    test_doc_dict = test_doc.map(lambda x: (x, 1)).reduceByKey(lambda a, b: a + b)\n",
    "    # test_doc_dict.take(10)\n",
    "#     refDict.take(10)\n",
    "\n",
    "    test_doc_joined = refDict.join(test_doc_dict).map(lambda x: (x[1][0], x[1][1]))\n",
    "    \n",
    "    test_doc_counts = np.zeros(numWords)\n",
    "\n",
    "    for x in test_doc_joined.collect():\n",
    "        test_doc_counts[x[0]] = x[1] \n",
    "    # test_doc_counts\n",
    "\n",
    "    test_doc_tf = test_doc_counts/sum(test_doc_counts)\n",
    "    test_doc_tfidf = test_doc_tf * idf\n",
    "#     test_doc_tfidf\n",
    "    # calculate the distance\n",
    "    distance = tfidf.map(lambda x: (x[0], np.linalg.norm(test_doc_tfidf - x[1])))\n",
    "    closest = distance.sortBy(lambda x: x[1]).take(k)\n",
    "    output = [x[0].split('/')[1] for x in closest]\n",
    "    counter = Counter(output)\n",
    "    \n",
    "    return counter.most_common(1)[0][0]"
   ]
  },
  {
   "cell_type": "markdown",
   "metadata": {},
   "source": [
    "#### Test cases\n",
    "\n",
    "Run your predictLabel function on the 8 test cases below."
   ]
  },
  {
   "cell_type": "code",
   "execution_count": 26,
   "metadata": {},
   "outputs": [
    {
     "name": "stdout",
     "output_type": "stream",
     "text": [
      "sci.space\n"
     ]
    }
   ],
   "source": [
    "print(predictLabel (10, 'Graphics are pictures and movies created using computers – usually referring to image data created by a computer specifically with help from specialized graphical hardware and software. It is a vast and recent area in computer science. The phrase was coined by computer graphics researchers Verne Hudson and William Fetter of Boeing in 1960. It is often abbreviated as CG, though sometimes erroneously referred to as CGI. Important topics in computer graphics include user interface design, sprite graphics, vector graphics, 3D modeling, shaders, GPU design, implicit surface visualization with ray tracing, and computer vision, among others. The overall methodology depends heavily on the underlying sciences of geometry, optics, and physics. Computer graphics is responsible for displaying art and image data effectively and meaningfully to the user, and processing image data received from the physical world. The interaction and understanding of computers and interpretation of data has been made easier because of computer graphics. Computer graphic development has had a significant impact on many types of media and has revolutionized animation, movies, advertising, video games, and graphic design generally.'))"
   ]
  },
  {
   "cell_type": "code",
   "execution_count": 27,
   "metadata": {},
   "outputs": [
    {
     "name": "stdout",
     "output_type": "stream",
     "text": [
      "sci.med\n"
     ]
    }
   ],
   "source": [
    "print(predictLabel (10, 'A deity is a concept conceived in diverse ways in various cultures, typically as a natural or supernatural being considered divine or sacred. Monotheistic religions accept only one Deity (predominantly referred to as God), polytheistic religions accept and worship multiple deities, henotheistic religions accept one supreme deity without denying other deities considering them as equivalent aspects of the same divine principle, while several non-theistic religions deny any supreme eternal creator deity but accept a pantheon of deities which live, die and are reborn just like any other being. A male deity is a god, while a female deity is a goddess. The Oxford reference defines deity as a god or goddess (in a polytheistic religion), or anything revered as divine. C. Scott Littleton defines a deity as a being with powers greater than those of ordinary humans, but who interacts with humans, positively or negatively, in ways that carry humans to new levels of consciousness beyond the grounded preoccupations of ordinary life.'))"
   ]
  },
  {
   "cell_type": "code",
   "execution_count": 28,
   "metadata": {},
   "outputs": [
    {
     "name": "stdout",
     "output_type": "stream",
     "text": [
      "talk.politics.mideast\n"
     ]
    }
   ],
   "source": [
    "print(predictLabel (10, 'Egypt, officially the Arab Republic of Egypt, is a transcontinental country spanning the northeast corner of Africa and southwest corner of Asia by a land bridge formed by the Sinai Peninsula. Egypt is a Mediterranean country bordered by the Gaza Strip and Israel to the northeast, the Gulf of Aqaba to the east, the Red Sea to the east and south, Sudan to the south, and Libya to the west. Across the Gulf of Aqaba lies Jordan, and across from the Sinai Peninsula lies Saudi Arabia, although Jordan and Saudi Arabia do not share a land border with Egypt. It is the worlds only contiguous Eurafrasian nation. Egypt has among the longest histories of any modern country, emerging as one of the worlds first nation states in the tenth millennium BC. Considered a cradle of civilisation, Ancient Egypt experienced some of the earliest developments of writing, agriculture, urbanisation, organised religion and central government. Iconic monuments such as the Giza Necropolis and its Great Sphinx, as well the ruins of Memphis, Thebes, Karnak, and the Valley of the Kings, reflect this legacy and remain a significant focus of archaeological study and popular interest worldwide. Egypts rich cultural heritage is an integral part of its national identity, which has endured, and at times assimilated, various foreign influences, including Greek, Persian, Roman, Arab, Ottoman, and European. One of the earliest centers of Christianity, Egypt was Islamised in the seventh century and remains a predominantly Muslim country, albeit with a significant Christian minority.'))"
   ]
  },
  {
   "cell_type": "code",
   "execution_count": 29,
   "metadata": {},
   "outputs": [
    {
     "name": "stdout",
     "output_type": "stream",
     "text": [
      "talk.politics.mideast\n"
     ]
    }
   ],
   "source": [
    "print(predictLabel (10, 'The term atheism originated from the Greek atheos, meaning without god(s), used as a pejorative term applied to those thought to reject the gods worshiped by the larger society. With the spread of freethought, skeptical inquiry, and subsequent increase in criticism of religion, application of the term narrowed in scope. The first individuals to identify themselves using the word atheist lived in the 18th century during the Age of Enlightenment. The French Revolution, noted for its unprecedented atheism, witnessed the first major political movement in history to advocate for the supremacy of human reason. Arguments for atheism range from the philosophical to social and historical approaches. Rationales for not believing in deities include arguments that there is a lack of empirical evidence; the problem of evil; the argument from inconsistent revelations; the rejection of concepts that cannot be falsified; and the argument from nonbelief. Although some atheists have adopted secular philosophies (eg. humanism and skepticism), there is no one ideology or set of behaviors to which all atheists adhere.'))"
   ]
  },
  {
   "cell_type": "code",
   "execution_count": 30,
   "metadata": {},
   "outputs": [
    {
     "name": "stdout",
     "output_type": "stream",
     "text": [
      "talk.politics.mideast\n"
     ]
    }
   ],
   "source": [
    "print(predictLabel (10, 'President Dwight D. Eisenhower established NASA in 1958 with a distinctly civilian (rather than military) orientation encouraging peaceful applications in space science. The National Aeronautics and Space Act was passed on July 29, 1958, disestablishing NASAs predecessor, the National Advisory Committee for Aeronautics (NACA). The new agency became operational on October 1, 1958. Since that time, most US space exploration efforts have been led by NASA, including the Apollo moon-landing missions, the Skylab space station, and later the Space Shuttle. Currently, NASA is supporting the International Space Station and is overseeing the development of the Orion Multi-Purpose Crew Vehicle, the Space Launch System and Commercial Crew vehicles. The agency is also responsible for the Launch Services Program (LSP) which provides oversight of launch operations and countdown management for unmanned NASA launches.'))"
   ]
  },
  {
   "cell_type": "code",
   "execution_count": 31,
   "metadata": {},
   "outputs": [
    {
     "name": "stdout",
     "output_type": "stream",
     "text": [
      "talk.politics.mideast\n"
     ]
    }
   ],
   "source": [
    "print(predictLabel (10, 'The transistor is the fundamental building block of modern electronic devices, and is ubiquitous in modern electronic systems. First conceived by Julius Lilienfeld in 1926 and practically implemented in 1947 by American physicists John Bardeen, Walter Brattain, and William Shockley, the transistor revolutionized the field of electronics, and paved the way for smaller and cheaper radios, calculators, and computers, among other things. The transistor is on the list of IEEE milestones in electronics, and Bardeen, Brattain, and Shockley shared the 1956 Nobel Prize in Physics for their achievement.'))"
   ]
  },
  {
   "cell_type": "code",
   "execution_count": 32,
   "metadata": {},
   "outputs": [
    {
     "name": "stdout",
     "output_type": "stream",
     "text": [
      "talk.politics.mideast\n"
     ]
    }
   ],
   "source": [
    "print(predictLabel (10, 'The Colt Single Action Army which is also known as the Single Action Army, SAA, Model P, Peacemaker, M1873, and Colt .45 is a single-action revolver with a revolving cylinder holding six metallic cartridges. It was designed for the U.S. government service revolver trials of 1872 by Colts Patent Firearms Manufacturing Company – todays Colts Manufacturing Company – and was adopted as the standard military service revolver until 1892. The Colt SAA has been offered in over 30 different calibers and various barrel lengths. Its overall appearance has remained consistent since 1873. Colt has discontinued its production twice, but brought it back due to popular demand. The revolver was popular with ranchers, lawmen, and outlaws alike, but as of the early 21st century, models are mostly bought by collectors and re-enactors. Its design has influenced the production of numerous other models from other companies.'))"
   ]
  },
  {
   "cell_type": "code",
   "execution_count": 33,
   "metadata": {},
   "outputs": [
    {
     "name": "stdout",
     "output_type": "stream",
     "text": [
      "talk.politics.mideast\n"
     ]
    }
   ],
   "source": [
    "print(predictLabel (10, 'Howe was recruited by the Red Wings and made his NHL debut in 1946. He led the league in scoring each year from 1950 to 1954, then again in 1957 and 1963. He ranked among the top ten in league scoring for 21 consecutive years and set a league record for points in a season (95) in 1953. He won the Stanley Cup with the Red Wings four times, won six Hart Trophies as the leagues most valuable player, and won six Art Ross Trophies as the leading scorer. Howe retired in 1971 and was inducted into the Hockey Hall of Fame the next year. However, he came back two years later to join his sons Mark and Marty on the Houston Aeros of the WHA. Although in his mid-40s, he scored over 100 points twice in six years. He made a brief return to the NHL in 1979–80, playing one season with the Hartford Whalers, then retired at the age of 52. His involvement with the WHA was central to their brief pre-NHL merger success and forced the NHL to expand their recruitment to European talent and to expand to new markets.'))"
   ]
  },
  {
   "cell_type": "markdown",
   "metadata": {},
   "source": [
    "## Task 4 - run on the entire dataset in EMR cluster (15 pts)\n",
    "\n",
    "For the last part of this homework, you need to run your Spark code for tasks 1 through 3, on the entire dataset stored in S3, in an AWS EMR cluster. \n",
    "\n",
    "Follow the instructions on `Lab - Spark Intro (AWS)` to create and connect to an EMR cluster in AWS and run Spark programs in there. You can gather your code for each task in a Python `.py` file and submit them as jobs in the batch mode and get the final result back. To troubleshoot, you can run your code line by line, in an interactive mode to debug your program.       \n",
    "\n",
    "The entire dataset exists in this S3 URI: `s3://comp643bucket/lab/spark_intro_aws/20_news_same_line.txt`\n",
    "\n",
    "Repeat tasks 1 through 3 on the entire dataset in your EMR cluster, and print your results in the markdown cells below (keep the results from the small subset above). "
   ]
  },
  {
   "cell_type": "markdown",
   "metadata": {},
   "source": [
    "**Repeat task 1 on the entire dataset in your EMR cluster - print out the non-zero array entries (bag of words) that you have created for documents:**\n",
    "\n",
    "* `20_newsgroups/soc.religion.christian/21626`\n",
    "* `20_newsgroups/talk.politics.misc/179019`\n",
    "* `20_newsgroups/rec.autos/103167`\n",
    "\n",
    "**using the following code:**\n",
    "\n",
    "```\n",
    "arr1_1 = np.array(bag_of_words.filter(lambda x: x[0]=='20_newsgroups/soc.religion.christian/21626').values().collect())\n",
    "print(\"20_newsgroups/soc.religion.christian/21626 ... \\n\", arr1_1[arr1_1.nonzero()])\n",
    "\n",
    "arr1_2 = np.array(bag_of_words.filter(lambda x: x[0]=='20_newsgroups/talk.politics.misc/179019').values().collect())\n",
    "print(\"20_newsgroups/talk.politics.misc/179019 ...\\n\", arr1_2[arr1_2.nonzero()])\n",
    "\n",
    "arr1_3 = np.array(bag_of_words.filter(lambda x: x[0]=='20_newsgroups/rec.autos/103167').values().collect())\n",
    "print(\"20_newsgroups/rec.autos/103167 ... \\n\", arr1_3[arr1_3.nonzero()])\n",
    "```"
   ]
  },
  {
   "cell_type": "markdown",
   "metadata": {},
   "source": [
    "Copy your result in this markdown cell ...\n",
    "\n",
    "TASK 1:\n",
    "20_newsgroups/soc.religion.christian/21626 ... \n",
    " [ 7.  2. 10.  4.  4.  5.  1.  6.  7.  8.  1.  1.  1.  1.  3.  2.  1.  1. 1.  2.  1.  1.  1.  1.  1.  1.  1.  3.  1.  1.  1.  1.  1.  4.  1.  1. 1.  1.  2.  2.  1.  1.  1.  1.  1.  1.  1.  1.  1.  1.  1.  1.  1.  1. 1.  2.  1.  1.  1.  1.  1.  2.  1.  1.  1.  1.  1.  2.  1.  1.  1.  1.1.  1.  3.  1.  1.  1.  1.  1.  1.  1.  1.  2.  1.  2.  1.  1.  2.  1. 1.  1.  1.  2.  1.  1.  1.  2.  3.  1.  1.  2.  1.  2.  5.  3.  1.  2. 1.  1.  1.  1.  3.  1.  1.  1.  1.  2.  2.]\n",
    "\n",
    "20_newsgroups/talk.politics.misc/179019 ...\n",
    " [ 7. 23.  5. 17.  6.  5. 14. 10.  3. 15. 20.  4.  1. 11.  1.  4.  8.  4. 4.  3.  2.  1.  2.  3. 10.  3.  1.  1.  1.  1.  1.  1.  2.  1.  1.  1. 1.  2.  2.  3.  5.  2.  2.  1.  1.  2.  1.  1.  8.  1.  2.  1.  3.  1. 1.  2.  1.  2.  1.  1.  2.  2.  3.  1.  1.  1.  1.  2.  1.  1. 11.  3. 1.  1.  1.  1.  1.  2.  1.  2.  1.  1.  1.  1.  1.  1.  1.  1.  1.  1. 2.  2.  1.  1.  1.  1.  1.  1.  2.  1.  1.  2.  1.  1.  6.  1.  3.  1. 3.  1.  1.  1.  3.  3.  2.  1.  1.  3. 11.  2.  1.  1.  1.  1. 11.  1. 1.  1.  1.  1.  2.  2.  1.  1.  1.  2.  2.  1.  5.  1.  2.  1.  4.  1. 2.  1.  1.  1.  1.  1.  2.  3.  1.  1.  1.  1.  4.  3.  1.  1.  1.  1. 1.  1.  1.  1.  1.  1.  1.  1.  1.  2.  1.  2.  1.  1.  1.  1.]\n",
    "\n",
    "20_newsgroups/rec.autos/103167 ... \n",
    " [9. 1. 2. 3. 2. 1. 1. 1. 1. 1. 1. 1. 1. 2. 3. 1. 1. 1. 1. 1. 1. 1. 1. 1. 1. 1. 1. 1. 2. 1. 2. 1. 1. 1. 3. 1. 1. 1. 1. 1. 1. 1. 3. 1. 1. 1. 1. 1. 1. 1. 1. 1. 1. 1. 1. 1. 2. 2. 1. 1. 3. 1. 1. 1. 1. 1. 1. 2. 1. 1. 1.]\n",
    "\n"
   ]
  },
  {
   "cell_type": "markdown",
   "metadata": {},
   "source": [
    "**Repeat task 2 on the entire dataset in your EMR cluster - print out the non-zero array entries (TF-IDF) that you have created for documents:**\n",
    "\n",
    "* `20_newsgroups/soc.religion.christian/21626`\n",
    "* `20_newsgroups/talk.politics.misc/179019`\n",
    "* `20_newsgroups/rec.autos/103167`\n",
    "\n",
    "**using the following code:**\n",
    "\n",
    "```\n",
    "arr2_1 = np.array(tfidf.filter(lambda x: x[0]=='20_newsgroups/soc.religion.christian/21626').values().collect())\n",
    "print('20_newsgroups/soc.religion.christian/21626 ... \\n', arr2_1[arr2_1.nonzero()])\n",
    "\n",
    "arr2_2 = np.array(tfidf.filter(lambda x: x[0]=='20_newsgroups/talk.politics.misc/179019').values().collect())\n",
    "print(\"20_newsgroups/talk.politics.misc/179019 ...\\n\", arr2_2[arr2_2.nonzero()])\n",
    "\n",
    "arr2_3 = np.array(tfidf.filter(lambda x: x[0]=='20_newsgroups/rec.autos/103167').values().collect())\n",
    "print(\"20_newsgroups/rec.autos/103167 ... \\n\", arr2_3[arr2_3.nonzero()])\n",
    "```"
   ]
  },
  {
   "cell_type": "markdown",
   "metadata": {},
   "source": [
    "Copy your result in this markdown cell ...\n",
    "\n",
    "\n",
    "TASK 2:\n",
    "\n",
    "\n",
    "20_newsgroups/soc.religion.christian/21626 ... \n",
    " [0.16111705 0.05045764 0.24138046 0.09445891 0.09187173 0.12131065\n",
    " 0.02462006 0.1437449  0.21074976 0.19434908 0.02389871 0.02386958\n",
    " 0.02609953 0.02657395 0.07259911 0.05045764 0.02894574 0.02364241\n",
    " 0.02780849 0.04858727 0.02386958 0.0248266  0.02787251 0.02442167\n",
    " 0.02542287 0.02662396 0.02451988 0.07942626 0.02486186 0.02642687\n",
    " 0.02841629 0.02579223 0.03135566 0.10061302 0.02587813 0.02579223\n",
    " 0.03339317 0.02642687 0.06245687 0.0596286  0.03041804 0.03189944\n",
    " 0.03074949 0.03110435 0.03041804 0.0316202  0.03086501 0.03204511\n",
    " 0.03189944 0.03931606 0.03423264 0.0337954  0.03496934 0.03727855\n",
    " 0.03496934 0.06718052 0.03687632 0.03615722 0.03650392 0.01016158\n",
    " 0.01325231 0.0238586  0.01365804 0.01880467 0.03524103 0.02677702\n",
    " 0.02856196 0.04420107 0.02820542 0.03819474 0.02435724 0.02647542\n",
    " 0.02426213 0.02726634 0.04668103 0.02306599 0.0316202  0.03400926\n",
    " 0.02222462 0.0316202  0.03219513 0.03267407 0.03074949 0.06469951\n",
    " 0.03175788 0.07300784 0.03471158 0.02910786 0.07455709 0.03302077\n",
    " 0.03687632 0.03219513 0.03615722 0.06149897 0.04628236 0.02715341\n",
    " 0.03359026 0.08335578 0.02131858 0.02991002 0.03446641 0.0884897\n",
    " 0.03552826 0.06718052 0.1825196  0.11617256 0.02130843 0.06801853\n",
    " 0.03524103 0.03189944 0.03872419 0.03189944 0.08888449 0.03400926\n",
    " 0.03771579 0.02455305 0.02657395 0.05889735 0.07744837]\n",
    "\n",
    "\n",
    "20_newsgroups/talk.politics.misc/179019 ...\n",
    " [0.0720501  0.25948836 0.05397159 0.179525   0.06162632 0.05504934\n",
    " 0.14998999 0.13463628 0.03259169 0.17568504 0.21220467 0.05385451\n",
    " 0.01068729 0.11536146 0.01067426 0.04668591 0.09182107 0.04753454\n",
    " 0.04328756 0.03384631 0.02588855 0.01080806 0.02114535 0.03410663\n",
    " 0.12435707 0.03293971 0.01067426 0.01110223 0.01246433 0.01140455\n",
    " 0.01105558 0.01147763 0.02273775 0.01190599 0.01173305 0.01096507\n",
    " 0.01183957 0.02443789 0.02233197 0.03316673 0.05460576 0.02363572\n",
    " 0.0227025  0.01541307 0.01211793 0.02793015 0.01181786 0.01209337\n",
    " 0.09039353 0.01167148 0.02266753 0.01360267 0.04080802 0.01346363\n",
    " 0.01390959 0.02816068 0.01408034 0.02711073 0.01355536 0.01390959\n",
    " 0.02828054 0.02740079 0.04947228 0.01360267 0.01408034 0.01396507\n",
    " 0.01426514 0.02969663 0.01520864 0.01552271 0.18337694 0.04592558\n",
    " 0.01541307 0.01563797 0.01588792 0.01758179 0.01632423 0.03516358\n",
    " 0.01616919 0.00639371 0.009733   0.00900266 0.00483371 0.0049711\n",
    " 0.00601929 0.00556715 0.00610775 0.01396507 0.01530853 0.00650727\n",
    " 0.02394888 0.02522642 0.01023872 0.01155318 0.01214276 0.01294428\n",
    " 0.01059764 0.01370039 0.02014743 0.01021742 0.01283974 0.02516527\n",
    " 0.01520864 0.01341913 0.09382785 0.01414027 0.04052708 0.01502126\n",
    " 0.04189522 0.01277265 0.01686616 0.01575947 0.04260552 0.05195132\n",
    " 0.03004252 0.01788186 0.01863798 0.04897268 0.20051092 0.03264845\n",
    " 0.00712613 0.01461155 0.01649076 0.01468773 0.1624325  0.01708034\n",
    " 0.01107102 0.00903374 0.01099484 0.01329068 0.02840368 0.03127595\n",
    " 0.01667063 0.01758179 0.01114988 0.02220446 0.02355011 0.01249333\n",
    " 0.06777681 0.00992    0.02156131 0.01355536 0.0284938  0.01390959\n",
    " 0.02610783 0.01649076 0.01686616 0.0052952  0.01758179 0.01104024\n",
    " 0.00388165 0.03905032 0.01520864 0.01246433 0.01632423 0.00920269\n",
    " 0.04644619 0.04897268 0.01563797 0.01320896 0.00771705 0.01731711\n",
    " 0.01493313 0.01686616 0.01602415 0.01541307 0.01355536 0.01476659\n",
    " 0.01385543 0.01493313 0.01667063 0.04139411 0.01758179 0.0395718\n",
    " 0.01530853 0.01188363 0.01520864 0.01616919]\n",
    "\n",
    "\n",
    "20_newsgroups/rec.autos/103167 ... \n",
    " [0.42497885 0.0517581  0.09423956 0.14932465 0.10101838 0.04914989\n",
    " 0.06176613 0.05373185 0.04902931 0.04896955 0.0545177  0.04964682\n",
    " 0.0517581  0.11876707 0.16063322 0.04983952 0.04896955 0.05093292\n",
    " 0.05718174 0.05231983 0.05265512 0.05462028 0.0512254  0.05829734\n",
    " 0.06218697 0.06285232 0.06176613 0.06262573 0.12525147 0.07565349\n",
    " 0.12570464 0.07070943 0.06977158 0.06933282 0.09390941 0.02655891\n",
    " 0.04457328 0.05815111 0.05859618 0.06078355 0.05772446 0.07417822\n",
    " 0.20323092 0.06574203 0.06738187 0.06176613 0.07174122 0.08065872\n",
    " 0.07565349 0.06850764 0.06891198 0.07488949 0.08203533 0.07022985\n",
    " 0.05692073 0.07488949 0.12437395 0.10784554 0.08065872 0.07488949\n",
    " 0.21363728 0.07835827 0.05938353 0.07174122 0.04697144 0.0619744\n",
    " 0.07835827 0.12570464 0.063321   0.08550412 0.07835827]"
   ]
  },
  {
   "cell_type": "markdown",
   "metadata": {},
   "source": [
    "**Repeat task 3 on the entire dataset in your EMR cluster - print out the predicted label for each of the below test document:**"
   ]
  },
  {
   "cell_type": "code",
   "execution_count": null,
   "metadata": {},
   "outputs": [],
   "source": [
    "print(predictLabel (10, 'Graphics are pictures and movies created using computers – usually referring to image data created by a computer specifically with help from specialized graphical hardware and software. It is a vast and recent area in computer science. The phrase was coined by computer graphics researchers Verne Hudson and William Fetter of Boeing in 1960. It is often abbreviated as CG, though sometimes erroneously referred to as CGI. Important topics in computer graphics include user interface design, sprite graphics, vector graphics, 3D modeling, shaders, GPU design, implicit surface visualization with ray tracing, and computer vision, among others. The overall methodology depends heavily on the underlying sciences of geometry, optics, and physics. Computer graphics is responsible for displaying art and image data effectively and meaningfully to the user, and processing image data received from the physical world. The interaction and understanding of computers and interpretation of data has been made easier because of computer graphics. Computer graphic development has had a significant impact on many types of media and has revolutionized animation, movies, advertising, video games, and graphic design generally.'))\n",
    "print(predictLabel (10, 'A deity is a concept conceived in diverse ways in various cultures, typically as a natural or supernatural being considered divine or sacred. Monotheistic religions accept only one Deity (predominantly referred to as God), polytheistic religions accept and worship multiple deities, henotheistic religions accept one supreme deity without denying other deities considering them as equivalent aspects of the same divine principle, while several non-theistic religions deny any supreme eternal creator deity but accept a pantheon of deities which live, die and are reborn just like any other being. A male deity is a god, while a female deity is a goddess. The Oxford reference defines deity as a god or goddess (in a polytheistic religion), or anything revered as divine. C. Scott Littleton defines a deity as a being with powers greater than those of ordinary humans, but who interacts with humans, positively or negatively, in ways that carry humans to new levels of consciousness beyond the grounded preoccupations of ordinary life.'))\n",
    "print(predictLabel (10, 'Egypt, officially the Arab Republic of Egypt, is a transcontinental country spanning the northeast corner of Africa and southwest corner of Asia by a land bridge formed by the Sinai Peninsula. Egypt is a Mediterranean country bordered by the Gaza Strip and Israel to the northeast, the Gulf of Aqaba to the east, the Red Sea to the east and south, Sudan to the south, and Libya to the west. Across the Gulf of Aqaba lies Jordan, and across from the Sinai Peninsula lies Saudi Arabia, although Jordan and Saudi Arabia do not share a land border with Egypt. It is the worlds only contiguous Eurafrasian nation. Egypt has among the longest histories of any modern country, emerging as one of the worlds first nation states in the tenth millennium BC. Considered a cradle of civilisation, Ancient Egypt experienced some of the earliest developments of writing, agriculture, urbanisation, organised religion and central government. Iconic monuments such as the Giza Necropolis and its Great Sphinx, as well the ruins of Memphis, Thebes, Karnak, and the Valley of the Kings, reflect this legacy and remain a significant focus of archaeological study and popular interest worldwide. Egypts rich cultural heritage is an integral part of its national identity, which has endured, and at times assimilated, various foreign influences, including Greek, Persian, Roman, Arab, Ottoman, and European. One of the earliest centers of Christianity, Egypt was Islamised in the seventh century and remains a predominantly Muslim country, albeit with a significant Christian minority.'))\n",
    "print(predictLabel (10, 'The term atheism originated from the Greek atheos, meaning without god(s), used as a pejorative term applied to those thought to reject the gods worshiped by the larger society. With the spread of freethought, skeptical inquiry, and subsequent increase in criticism of religion, application of the term narrowed in scope. The first individuals to identify themselves using the word atheist lived in the 18th century during the Age of Enlightenment. The French Revolution, noted for its unprecedented atheism, witnessed the first major political movement in history to advocate for the supremacy of human reason. Arguments for atheism range from the philosophical to social and historical approaches. Rationales for not believing in deities include arguments that there is a lack of empirical evidence; the problem of evil; the argument from inconsistent revelations; the rejection of concepts that cannot be falsified; and the argument from nonbelief. Although some atheists have adopted secular philosophies (eg. humanism and skepticism), there is no one ideology or set of behaviors to which all atheists adhere.'))\n",
    "print(predictLabel (10, 'President Dwight D. Eisenhower established NASA in 1958 with a distinctly civilian (rather than military) orientation encouraging peaceful applications in space science. The National Aeronautics and Space Act was passed on July 29, 1958, disestablishing NASAs predecessor, the National Advisory Committee for Aeronautics (NACA). The new agency became operational on October 1, 1958. Since that time, most US space exploration efforts have been led by NASA, including the Apollo moon-landing missions, the Skylab space station, and later the Space Shuttle. Currently, NASA is supporting the International Space Station and is overseeing the development of the Orion Multi-Purpose Crew Vehicle, the Space Launch System and Commercial Crew vehicles. The agency is also responsible for the Launch Services Program (LSP) which provides oversight of launch operations and countdown management for unmanned NASA launches.'))\n",
    "print(predictLabel (10, 'The transistor is the fundamental building block of modern electronic devices, and is ubiquitous in modern electronic systems. First conceived by Julius Lilienfeld in 1926 and practically implemented in 1947 by American physicists John Bardeen, Walter Brattain, and William Shockley, the transistor revolutionized the field of electronics, and paved the way for smaller and cheaper radios, calculators, and computers, among other things. The transistor is on the list of IEEE milestones in electronics, and Bardeen, Brattain, and Shockley shared the 1956 Nobel Prize in Physics for their achievement.'))\n",
    "print(predictLabel (10, 'The Colt Single Action Army which is also known as the Single Action Army, SAA, Model P, Peacemaker, M1873, and Colt .45 is a single-action revolver with a revolving cylinder holding six metallic cartridges. It was designed for the U.S. government service revolver trials of 1872 by Colts Patent Firearms Manufacturing Company – todays Colts Manufacturing Company – and was adopted as the standard military service revolver until 1892. The Colt SAA has been offered in over 30 different calibers and various barrel lengths. Its overall appearance has remained consistent since 1873. Colt has discontinued its production twice, but brought it back due to popular demand. The revolver was popular with ranchers, lawmen, and outlaws alike, but as of the early 21st century, models are mostly bought by collectors and re-enactors. Its design has influenced the production of numerous other models from other companies.'))\n",
    "print(predictLabel (10, 'Howe was recruited by the Red Wings and made his NHL debut in 1946. He led the league in scoring each year from 1950 to 1954, then again in 1957 and 1963. He ranked among the top ten in league scoring for 21 consecutive years and set a league record for points in a season (95) in 1953. He won the Stanley Cup with the Red Wings four times, won six Hart Trophies as the leagues most valuable player, and won six Art Ross Trophies as the leading scorer. Howe retired in 1971 and was inducted into the Hockey Hall of Fame the next year. However, he came back two years later to join his sons Mark and Marty on the Houston Aeros of the WHA. Although in his mid-40s, he scored over 100 points twice in six years. He made a brief return to the NHL in 1979–80, playing one season with the Hartford Whalers, then retired at the age of 52. His involvement with the WHA was central to their brief pre-NHL merger success and forced the NHL to expand their recruitment to European talent and to expand to new markets.'))"
   ]
  },
  {
   "cell_type": "markdown",
   "metadata": {},
   "source": [
    "Copy all the predicted labels in this markdown cell ...\n",
    "\n",
    "\n",
    "comp.graphics\n",
    "\n",
    "talk.politics.guns\n",
    "\n",
    "talk.politics.mideast\n",
    "\n",
    "talk.politics.mideast\n",
    "\n",
    "sci.space\n",
    "\n",
    "talk.politics.mideast\n",
    "\n",
    "talk.politics.misc\n",
    "\n",
    "rec.sport.hockey"
   ]
  },
  {
   "cell_type": "markdown",
   "metadata": {},
   "source": [
    "### Copyright ©2020 Christopher M Jermaine (cmj4@rice.edu), Risa B Myers  (rbm2@rice.edu), Marmar Orooji (marmar.orooji@rice.edu)\n",
    "\n",
    "Licensed under the Apache License, Version 2.0 (the \"License\");\n",
    "you may not use this file except in compliance with the License.\n",
    "You may obtain a copy of the License at\n",
    "\n",
    "    https://www.apache.org/licenses/LICENSE-2.0\n",
    "\n",
    "Unless required by applicable law or agreed to in writing, software\n",
    "distributed under the License is distributed on an \"AS IS\" BASIS,\n",
    "WITHOUT WARRANTIES OR CONDITIONS OF ANY KIND, either express or implied.\n",
    "See the License for the specific language governing permissions and\n",
    "limitations under the License."
   ]
  }
 ],
 "metadata": {
  "kernelspec": {
   "display_name": "Python 3 (ipykernel)",
   "language": "python",
   "name": "python3"
  },
  "language_info": {
   "codemirror_mode": {
    "name": "ipython",
    "version": 3
   },
   "file_extension": ".py",
   "mimetype": "text/x-python",
   "name": "python",
   "nbconvert_exporter": "python",
   "pygments_lexer": "ipython3",
   "version": "3.5.2"
  }
 },
 "nbformat": 4,
 "nbformat_minor": 2
}
